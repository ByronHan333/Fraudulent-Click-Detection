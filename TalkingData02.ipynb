{
 "cells": [
  {
   "cell_type": "markdown",
   "metadata": {},
   "source": [
    "# Overview"
   ]
  },
  {
   "cell_type": "markdown",
   "metadata": {},
   "source": [
    "This dataset is from Kaggle competition: https://www.kaggle.com/c/talkingdata-adtracking-fraud-detection\n",
    "\n",
    "This dataset contains the information about mobile fradulent events in China.\n",
    "\n",
    "The goal is to use the information given to predict whether a phone call is fradulent or not."
   ]
  },
  {
   "cell_type": "markdown",
   "metadata": {},
   "source": [
    "# Load data"
   ]
  },
  {
   "cell_type": "code",
   "execution_count": 3,
   "metadata": {},
   "outputs": [],
   "source": [
    "import pandas as pd\n",
    "import numpy as np\n",
    "import matplotlib.pyplot as plt\n",
    "import math\n",
    "import warnings\n",
    "# warnings.filterwarnings(action='once')\n",
    "warnings.filterwarnings('ignore')\n",
    "\n",
    "%matplotlib inline"
   ]
  },
  {
   "cell_type": "code",
   "execution_count": 4,
   "metadata": {},
   "outputs": [],
   "source": [
    "talking = pd.read_csv('train_sample.csv', parse_dates = ['click_time'])"
   ]
  },
  {
   "cell_type": "markdown",
   "metadata": {},
   "source": [
    "# Data overview"
   ]
  },
  {
   "cell_type": "markdown",
   "metadata": {},
   "source": [
    "We take a look at the size of the data, the type of each columns of the data.\n",
    "\n",
    "Also we checked the head and tail of the data to check there is no anormality in the data.\n",
    "\n",
    "Finally, we took a sample from the data and realize that this is potentially imbalanced dataset.\n",
    "\n",
    "So we did further exploration in the next section and dealt with it."
   ]
  },
  {
   "cell_type": "markdown",
   "metadata": {},
   "source": [
    "Predictors: \n",
    "\n",
    "• ip: ip address of click\n",
    "\n",
    "• app: app id for marketing\n",
    "\n",
    "• device: device type id of user mobile phone (e.g., iphone 6 plus, iphone 7, huawei mate 7, etc.)\n",
    "\n",
    "• os: os version id of user mobile phone\n",
    "\n",
    "• channel: channel id of mobile ad publisher\n",
    "\n",
    "• click_time: timestamp of click (UTC)\n",
    "\n",
    "• attributed_time: if user download the app for after clicking an ad, this is the time of the app download\n",
    "\n",
    "Target:\n",
    "\n",
    "• is_attributed: the target that is to be predicted, indicating the app was downloaded"
   ]
  },
  {
   "cell_type": "code",
   "execution_count": 5,
   "metadata": {},
   "outputs": [
    {
     "data": {
      "text/plain": [
       "100000"
      ]
     },
     "execution_count": 5,
     "metadata": {},
     "output_type": "execute_result"
    }
   ],
   "source": [
    "len(talking)"
   ]
  },
  {
   "cell_type": "code",
   "execution_count": 6,
   "metadata": {},
   "outputs": [
    {
     "name": "stdout",
     "output_type": "stream",
     "text": [
      "<class 'pandas.core.frame.DataFrame'>\n",
      "RangeIndex: 100000 entries, 0 to 99999\n",
      "Data columns (total 8 columns):\n",
      "ip                 100000 non-null int64\n",
      "app                100000 non-null int64\n",
      "device             100000 non-null int64\n",
      "os                 100000 non-null int64\n",
      "channel            100000 non-null int64\n",
      "click_time         100000 non-null datetime64[ns]\n",
      "attributed_time    227 non-null object\n",
      "is_attributed      100000 non-null int64\n",
      "dtypes: datetime64[ns](1), int64(6), object(1)\n",
      "memory usage: 6.1+ MB\n"
     ]
    }
   ],
   "source": [
    "talking.info()"
   ]
  },
  {
   "cell_type": "code",
   "execution_count": 7,
   "metadata": {},
   "outputs": [
    {
     "data": {
      "text/html": [
       "<div>\n",
       "<style scoped>\n",
       "    .dataframe tbody tr th:only-of-type {\n",
       "        vertical-align: middle;\n",
       "    }\n",
       "\n",
       "    .dataframe tbody tr th {\n",
       "        vertical-align: top;\n",
       "    }\n",
       "\n",
       "    .dataframe thead th {\n",
       "        text-align: right;\n",
       "    }\n",
       "</style>\n",
       "<table border=\"1\" class=\"dataframe\">\n",
       "  <thead>\n",
       "    <tr style=\"text-align: right;\">\n",
       "      <th></th>\n",
       "      <th>ip</th>\n",
       "      <th>app</th>\n",
       "      <th>device</th>\n",
       "      <th>os</th>\n",
       "      <th>channel</th>\n",
       "      <th>click_time</th>\n",
       "      <th>attributed_time</th>\n",
       "      <th>is_attributed</th>\n",
       "    </tr>\n",
       "  </thead>\n",
       "  <tbody>\n",
       "    <tr>\n",
       "      <th>0</th>\n",
       "      <td>87540</td>\n",
       "      <td>12</td>\n",
       "      <td>1</td>\n",
       "      <td>13</td>\n",
       "      <td>497</td>\n",
       "      <td>2017-11-07 09:30:38</td>\n",
       "      <td>NaN</td>\n",
       "      <td>0</td>\n",
       "    </tr>\n",
       "    <tr>\n",
       "      <th>1</th>\n",
       "      <td>105560</td>\n",
       "      <td>25</td>\n",
       "      <td>1</td>\n",
       "      <td>17</td>\n",
       "      <td>259</td>\n",
       "      <td>2017-11-07 13:40:27</td>\n",
       "      <td>NaN</td>\n",
       "      <td>0</td>\n",
       "    </tr>\n",
       "    <tr>\n",
       "      <th>2</th>\n",
       "      <td>101424</td>\n",
       "      <td>12</td>\n",
       "      <td>1</td>\n",
       "      <td>19</td>\n",
       "      <td>212</td>\n",
       "      <td>2017-11-07 18:05:24</td>\n",
       "      <td>NaN</td>\n",
       "      <td>0</td>\n",
       "    </tr>\n",
       "    <tr>\n",
       "      <th>3</th>\n",
       "      <td>94584</td>\n",
       "      <td>13</td>\n",
       "      <td>1</td>\n",
       "      <td>13</td>\n",
       "      <td>477</td>\n",
       "      <td>2017-11-07 04:58:08</td>\n",
       "      <td>NaN</td>\n",
       "      <td>0</td>\n",
       "    </tr>\n",
       "    <tr>\n",
       "      <th>4</th>\n",
       "      <td>68413</td>\n",
       "      <td>12</td>\n",
       "      <td>1</td>\n",
       "      <td>1</td>\n",
       "      <td>178</td>\n",
       "      <td>2017-11-09 09:00:09</td>\n",
       "      <td>NaN</td>\n",
       "      <td>0</td>\n",
       "    </tr>\n",
       "  </tbody>\n",
       "</table>\n",
       "</div>"
      ],
      "text/plain": [
       "       ip  app  device  os  channel          click_time attributed_time  \\\n",
       "0   87540   12       1  13      497 2017-11-07 09:30:38             NaN   \n",
       "1  105560   25       1  17      259 2017-11-07 13:40:27             NaN   \n",
       "2  101424   12       1  19      212 2017-11-07 18:05:24             NaN   \n",
       "3   94584   13       1  13      477 2017-11-07 04:58:08             NaN   \n",
       "4   68413   12       1   1      178 2017-11-09 09:00:09             NaN   \n",
       "\n",
       "   is_attributed  \n",
       "0              0  \n",
       "1              0  \n",
       "2              0  \n",
       "3              0  \n",
       "4              0  "
      ]
     },
     "execution_count": 7,
     "metadata": {},
     "output_type": "execute_result"
    }
   ],
   "source": [
    "talking.head()"
   ]
  },
  {
   "cell_type": "code",
   "execution_count": 8,
   "metadata": {},
   "outputs": [
    {
     "data": {
      "text/html": [
       "<div>\n",
       "<style scoped>\n",
       "    .dataframe tbody tr th:only-of-type {\n",
       "        vertical-align: middle;\n",
       "    }\n",
       "\n",
       "    .dataframe tbody tr th {\n",
       "        vertical-align: top;\n",
       "    }\n",
       "\n",
       "    .dataframe thead th {\n",
       "        text-align: right;\n",
       "    }\n",
       "</style>\n",
       "<table border=\"1\" class=\"dataframe\">\n",
       "  <thead>\n",
       "    <tr style=\"text-align: right;\">\n",
       "      <th></th>\n",
       "      <th>ip</th>\n",
       "      <th>app</th>\n",
       "      <th>device</th>\n",
       "      <th>os</th>\n",
       "      <th>channel</th>\n",
       "      <th>click_time</th>\n",
       "      <th>attributed_time</th>\n",
       "      <th>is_attributed</th>\n",
       "    </tr>\n",
       "  </thead>\n",
       "  <tbody>\n",
       "    <tr>\n",
       "      <th>99995</th>\n",
       "      <td>124883</td>\n",
       "      <td>11</td>\n",
       "      <td>1</td>\n",
       "      <td>19</td>\n",
       "      <td>122</td>\n",
       "      <td>2017-11-09 13:25:41</td>\n",
       "      <td>NaN</td>\n",
       "      <td>0</td>\n",
       "    </tr>\n",
       "    <tr>\n",
       "      <th>99996</th>\n",
       "      <td>85150</td>\n",
       "      <td>9</td>\n",
       "      <td>1</td>\n",
       "      <td>13</td>\n",
       "      <td>244</td>\n",
       "      <td>2017-11-07 11:25:43</td>\n",
       "      <td>NaN</td>\n",
       "      <td>0</td>\n",
       "    </tr>\n",
       "    <tr>\n",
       "      <th>99997</th>\n",
       "      <td>18839</td>\n",
       "      <td>3</td>\n",
       "      <td>1</td>\n",
       "      <td>13</td>\n",
       "      <td>19</td>\n",
       "      <td>2017-11-08 11:38:42</td>\n",
       "      <td>NaN</td>\n",
       "      <td>0</td>\n",
       "    </tr>\n",
       "    <tr>\n",
       "      <th>99998</th>\n",
       "      <td>114276</td>\n",
       "      <td>15</td>\n",
       "      <td>1</td>\n",
       "      <td>12</td>\n",
       "      <td>245</td>\n",
       "      <td>2017-11-08 17:55:21</td>\n",
       "      <td>NaN</td>\n",
       "      <td>0</td>\n",
       "    </tr>\n",
       "    <tr>\n",
       "      <th>99999</th>\n",
       "      <td>119349</td>\n",
       "      <td>14</td>\n",
       "      <td>1</td>\n",
       "      <td>15</td>\n",
       "      <td>401</td>\n",
       "      <td>2017-11-07 14:32:27</td>\n",
       "      <td>NaN</td>\n",
       "      <td>0</td>\n",
       "    </tr>\n",
       "  </tbody>\n",
       "</table>\n",
       "</div>"
      ],
      "text/plain": [
       "           ip  app  device  os  channel          click_time attributed_time  \\\n",
       "99995  124883   11       1  19      122 2017-11-09 13:25:41             NaN   \n",
       "99996   85150    9       1  13      244 2017-11-07 11:25:43             NaN   \n",
       "99997   18839    3       1  13       19 2017-11-08 11:38:42             NaN   \n",
       "99998  114276   15       1  12      245 2017-11-08 17:55:21             NaN   \n",
       "99999  119349   14       1  15      401 2017-11-07 14:32:27             NaN   \n",
       "\n",
       "       is_attributed  \n",
       "99995              0  \n",
       "99996              0  \n",
       "99997              0  \n",
       "99998              0  \n",
       "99999              0  "
      ]
     },
     "execution_count": 8,
     "metadata": {},
     "output_type": "execute_result"
    }
   ],
   "source": [
    "talking.tail()"
   ]
  },
  {
   "cell_type": "code",
   "execution_count": 9,
   "metadata": {},
   "outputs": [
    {
     "data": {
      "text/html": [
       "<div>\n",
       "<style scoped>\n",
       "    .dataframe tbody tr th:only-of-type {\n",
       "        vertical-align: middle;\n",
       "    }\n",
       "\n",
       "    .dataframe tbody tr th {\n",
       "        vertical-align: top;\n",
       "    }\n",
       "\n",
       "    .dataframe thead th {\n",
       "        text-align: right;\n",
       "    }\n",
       "</style>\n",
       "<table border=\"1\" class=\"dataframe\">\n",
       "  <thead>\n",
       "    <tr style=\"text-align: right;\">\n",
       "      <th></th>\n",
       "      <th>ip</th>\n",
       "      <th>app</th>\n",
       "      <th>device</th>\n",
       "      <th>os</th>\n",
       "      <th>channel</th>\n",
       "      <th>click_time</th>\n",
       "      <th>attributed_time</th>\n",
       "      <th>is_attributed</th>\n",
       "    </tr>\n",
       "  </thead>\n",
       "  <tbody>\n",
       "    <tr>\n",
       "      <th>5130</th>\n",
       "      <td>174887</td>\n",
       "      <td>9</td>\n",
       "      <td>1</td>\n",
       "      <td>18</td>\n",
       "      <td>215</td>\n",
       "      <td>2017-11-08 02:53:12</td>\n",
       "      <td>NaN</td>\n",
       "      <td>0</td>\n",
       "    </tr>\n",
       "    <tr>\n",
       "      <th>18550</th>\n",
       "      <td>154166</td>\n",
       "      <td>14</td>\n",
       "      <td>1</td>\n",
       "      <td>25</td>\n",
       "      <td>463</td>\n",
       "      <td>2017-11-07 08:24:54</td>\n",
       "      <td>NaN</td>\n",
       "      <td>0</td>\n",
       "    </tr>\n",
       "    <tr>\n",
       "      <th>56386</th>\n",
       "      <td>138821</td>\n",
       "      <td>9</td>\n",
       "      <td>1</td>\n",
       "      <td>15</td>\n",
       "      <td>445</td>\n",
       "      <td>2017-11-07 14:07:56</td>\n",
       "      <td>NaN</td>\n",
       "      <td>0</td>\n",
       "    </tr>\n",
       "    <tr>\n",
       "      <th>64060</th>\n",
       "      <td>97744</td>\n",
       "      <td>1</td>\n",
       "      <td>1</td>\n",
       "      <td>13</td>\n",
       "      <td>125</td>\n",
       "      <td>2017-11-07 17:01:18</td>\n",
       "      <td>NaN</td>\n",
       "      <td>0</td>\n",
       "    </tr>\n",
       "    <tr>\n",
       "      <th>86716</th>\n",
       "      <td>4107</td>\n",
       "      <td>15</td>\n",
       "      <td>1</td>\n",
       "      <td>6</td>\n",
       "      <td>153</td>\n",
       "      <td>2017-11-08 11:11:36</td>\n",
       "      <td>NaN</td>\n",
       "      <td>0</td>\n",
       "    </tr>\n",
       "  </tbody>\n",
       "</table>\n",
       "</div>"
      ],
      "text/plain": [
       "           ip  app  device  os  channel          click_time attributed_time  \\\n",
       "5130   174887    9       1  18      215 2017-11-08 02:53:12             NaN   \n",
       "18550  154166   14       1  25      463 2017-11-07 08:24:54             NaN   \n",
       "56386  138821    9       1  15      445 2017-11-07 14:07:56             NaN   \n",
       "64060   97744    1       1  13      125 2017-11-07 17:01:18             NaN   \n",
       "86716    4107   15       1   6      153 2017-11-08 11:11:36             NaN   \n",
       "\n",
       "       is_attributed  \n",
       "5130               0  \n",
       "18550              0  \n",
       "56386              0  \n",
       "64060              0  \n",
       "86716              0  "
      ]
     },
     "execution_count": 9,
     "metadata": {},
     "output_type": "execute_result"
    }
   ],
   "source": [
    "talking.sample(5) ## imbalanced data"
   ]
  },
  {
   "cell_type": "markdown",
   "metadata": {},
   "source": [
    "# Explore the data"
   ]
  },
  {
   "cell_type": "markdown",
   "metadata": {},
   "source": [
    "## Imbalanced dataset"
   ]
  },
  {
   "cell_type": "markdown",
   "metadata": {},
   "source": [
    "The data apparently imbalanced, the fradualent data is ony less than 0.3% of the total data.\n",
    "\n",
    "Therefore, we plan to down sample the normal data and make fradulent the same size of the non-fradulent data"
   ]
  },
  {
   "cell_type": "code",
   "execution_count": 10,
   "metadata": {},
   "outputs": [],
   "source": [
    "num_attributed_time = talking['is_attributed'].value_counts()"
   ]
  },
  {
   "cell_type": "code",
   "execution_count": 11,
   "metadata": {},
   "outputs": [
    {
     "data": {
      "text/plain": [
       "0    99773\n",
       "1      227\n",
       "Name: is_attributed, dtype: int64"
      ]
     },
     "execution_count": 11,
     "metadata": {},
     "output_type": "execute_result"
    }
   ],
   "source": [
    "num_attributed_time"
   ]
  },
  {
   "cell_type": "code",
   "execution_count": 12,
   "metadata": {},
   "outputs": [
    {
     "name": "stdout",
     "output_type": "stream",
     "text": [
      "is_attributed==0 weight: 99.7730%\n",
      "is_attributed==1 weight: 0.2270%\n"
     ]
    }
   ],
   "source": [
    "# extremely imbalanced data, we may need to resample the data in the training stage\n",
    "print('is_attributed==0 weight: %.4f%%' % (num_attributed_time[0]/sum(num_attributed_time)*100))\n",
    "print('is_attributed==1 weight: %.4f%%' % (num_attributed_time[1]/sum(num_attributed_time)*100))"
   ]
  },
  {
   "cell_type": "code",
   "execution_count": 13,
   "metadata": {},
   "outputs": [
    {
     "data": {
      "image/png": "[encoded data removed]",
      "text/plain": [
       "<Figure size 432x288 with 1 Axes>"
      ]
     },
     "metadata": {},
     "output_type": "display_data"
    }
   ],
   "source": [
    "# visualize the imbalance: extremely imbalanced\n",
    "labels = 'attributed', 'not_attributed'\n",
    "sizes = [num_attributed_time[1], num_attributed_time[0]]\n",
    "colors = ['red', 'skyblue']\n",
    "explode = (0.5, 0)  # explode 1st slice\n",
    " \n",
    "# Plot\n",
    "plt.pie(sizes, explode=explode, labels=labels, colors=colors,\n",
    "        autopct='%1.2f%%', shadow=True, startangle=140)\n",
    " \n",
    "plt.axis('equal')\n",
    "plt.show()"
   ]
  },
  {
   "cell_type": "code",
   "execution_count": 27,
   "metadata": {},
   "outputs": [
    {
     "data": {
      "image/png": "[encoded data removed]",
      "text/plain": [
       "<Figure size 432x288 with 1 Axes>"
      ]
     },
     "metadata": {
      "needs_background": "light"
     },
     "output_type": "display_data"
    }
   ],
   "source": [
    "heads = talking.columns\n",
    "# print(heads)\n",
    "# for i in list(range(0,5)) + list(range(-1, -6, -1)):\n",
    "#     talking[heads[i]] = talking[heads[i]].astype('category')\n",
    "# talking.info()\n",
    "# visualize number of unique values for each categorical feature\n",
    "x = np.arange(1, 6)\n",
    "unique = [len(talking[i].unique()) for i in heads[:5]]\n",
    "y = np.array([math.log(i, 10) for i in unique])\n",
    "plt.bar(x, y)\n",
    "for i, v in enumerate(unique):\n",
    "    plt.text(i + .8, math.log(v, 10), str(v))\n",
    "\n",
    "plt.ylabel('log(unique_count)')\n",
    "plt.xticks(np.arange(1,6), ('ip', 'app', 'device', 'os', 'channel'))\n",
    "plt.title('Unique Counts for First Five Features')\n",
    "plt.show()"
   ]
  },
  {
   "cell_type": "code",
   "execution_count": 28,
   "metadata": {},
   "outputs": [
    {
     "name": "stdout",
     "output_type": "stream",
     "text": [
      "number of distinct values in 'ip' is: 34857.\n",
      "number of distinct values in 'app' is: 161.\n",
      "number of distinct values in 'device' is: 100.\n",
      "number of distinct values in 'channel' is: 161.\n",
      "number of distinct values in 'click_time' is: 80350.\n",
      "number of distinct values in 'attribute_time' is: 228.\n",
      "but everything is encoded so we don't know anything else except what time represents.\n",
      "however, app and channel interestingly have the same number of unique values, could this reveal something?\n"
     ]
    }
   ],
   "source": [
    "print('number of distinct values in \\'ip\\' is: %s.' % len(talking['ip'].unique()))\n",
    "print('number of distinct values in \\'app\\' is: %s.' % len(talking['app'].unique()))\n",
    "print('number of distinct values in \\'device\\' is: %s.' % len(talking['device'].unique()))\n",
    "print('number of distinct values in \\'channel\\' is: %s.' % len(talking['channel'].unique()))\n",
    "print('number of distinct values in \\'click_time\\' is: %s.' % len(talking['click_time'].unique()))\n",
    "print('number of distinct values in \\'attribute_time\\' is: %s.' % len(talking['attributed_time'].unique()))\n",
    "print('but everything is encoded so we don\\'t know anything else except what time represents.')\n",
    "print('however, app and channel interestingly have the same number of unique values, could this reveal something?')"
   ]
  },
  {
   "cell_type": "code",
   "execution_count": 29,
   "metadata": {},
   "outputs": [
    {
     "data": {
      "image/png": "[encoded data removed]",
      "text/plain": [
       "<Figure size 432x288 with 1 Axes>"
      ]
     },
     "metadata": {
      "needs_background": "light"
     },
     "output_type": "display_data"
    },
    {
     "name": "stdout",
     "output_type": "stream",
     "text": [
      "this shows that channel and app are not significantly correlated\n"
     ]
    }
   ],
   "source": [
    "plt.scatter(talking['app'], talking['channel'], alpha=0.1)\n",
    "plt.xlabel('app')\n",
    "plt.ylabel('channel')\n",
    "plt.title('channel vs app')\n",
    "plt.show()\n",
    "print('this shows that channel and app are not significantly correlated')"
   ]
  },
  {
   "cell_type": "code",
   "execution_count": 30,
   "metadata": {},
   "outputs": [
    {
     "name": "stdout",
     "output_type": "stream",
     "text": [
      "the first click time is on: 2017-11-06 16:00:00.\n",
      "the last click time is on: 2017-11-09 15:59:51.\n"
     ]
    }
   ],
   "source": [
    "print('the first click time is on: %s.' % min(talking['click_time']))\n",
    "print('the last click time is on: %s.' % max(talking['click_time']))"
   ]
  },
  {
   "cell_type": "code",
   "execution_count": 31,
   "metadata": {},
   "outputs": [
    {
     "data": {
      "text/plain": [
       "ip                     0\n",
       "app                    0\n",
       "device                 0\n",
       "os                     0\n",
       "channel                0\n",
       "click_time             0\n",
       "attributed_time    99773\n",
       "is_attributed          0\n",
       "day                    0\n",
       "hour                   0\n",
       "minute                 0\n",
       "second                 0\n",
       "dtype: int64"
      ]
     },
     "execution_count": 31,
     "metadata": {},
     "output_type": "execute_result"
    }
   ],
   "source": [
    "talking.isna().sum()"
   ]
  },
  {
   "cell_type": "code",
   "execution_count": 32,
   "metadata": {},
   "outputs": [
    {
     "name": "stdout",
     "output_type": "stream",
     "text": [
      "this makes sense because only those marked as 1 have downloaded the app\n"
     ]
    }
   ],
   "source": [
    "print('this makes sense because only those marked as 1 have downloaded the app')"
   ]
  },
  {
   "cell_type": "code",
   "execution_count": 33,
   "metadata": {},
   "outputs": [
    {
     "name": "stdout",
     "output_type": "stream",
     "text": [
      "the first attribute time is on: 2017-11-06 17:19:04.\n",
      "the last attribute time is on: 2017-11-09 15:28:15.\n",
      "but we don't need this column as attributed time is highly correlated with whether user download the app\n"
     ]
    }
   ],
   "source": [
    "cleanedList = [x for x in talking['attributed_time'] if str(x) != 'nan']\n",
    "print('the first attribute time is on: %s.' % min(cleanedList))\n",
    "print('the last attribute time is on: %s.' % max(cleanedList))\n",
    "print('but we don\\'t need this column as attributed time is highly correlated with whether user download the app')"
   ]
  },
  {
   "cell_type": "markdown",
   "metadata": {},
   "source": [
    "## Preprocess raw features"
   ]
  },
  {
   "cell_type": "markdown",
   "metadata": {},
   "source": [
    "The attributed_time feature is redundant because as long as the user download the data, there will be attributed_time feature, therefore we drop this feature.\n",
    "\n",
    "Furthermore, the click_time feature is in timestamp format, we extract day, hour, minute second from the time stamp, and make them into 4 new columns.\n",
    "\n",
    "The rest are categorical data, but they are encoded by kaggle to protect confidential information\n"
   ]
  },
  {
   "cell_type": "code",
   "execution_count": 34,
   "metadata": {},
   "outputs": [
    {
     "data": {
      "text/html": [
       "<div>\n",
       "<style scoped>\n",
       "    .dataframe tbody tr th:only-of-type {\n",
       "        vertical-align: middle;\n",
       "    }\n",
       "\n",
       "    .dataframe tbody tr th {\n",
       "        vertical-align: top;\n",
       "    }\n",
       "\n",
       "    .dataframe thead th {\n",
       "        text-align: right;\n",
       "    }\n",
       "</style>\n",
       "<table border=\"1\" class=\"dataframe\">\n",
       "  <thead>\n",
       "    <tr style=\"text-align: right;\">\n",
       "      <th></th>\n",
       "      <th>ip</th>\n",
       "      <th>app</th>\n",
       "      <th>device</th>\n",
       "      <th>os</th>\n",
       "      <th>channel</th>\n",
       "      <th>click_time</th>\n",
       "      <th>attributed_time</th>\n",
       "      <th>is_attributed</th>\n",
       "      <th>day</th>\n",
       "      <th>hour</th>\n",
       "      <th>minute</th>\n",
       "      <th>second</th>\n",
       "    </tr>\n",
       "  </thead>\n",
       "  <tbody>\n",
       "    <tr>\n",
       "      <th>0</th>\n",
       "      <td>87540</td>\n",
       "      <td>12</td>\n",
       "      <td>1</td>\n",
       "      <td>13</td>\n",
       "      <td>497</td>\n",
       "      <td>2017-11-07 09:30:38</td>\n",
       "      <td>NaN</td>\n",
       "      <td>0</td>\n",
       "      <td>7</td>\n",
       "      <td>9</td>\n",
       "      <td>30</td>\n",
       "      <td>38</td>\n",
       "    </tr>\n",
       "    <tr>\n",
       "      <th>1</th>\n",
       "      <td>105560</td>\n",
       "      <td>25</td>\n",
       "      <td>1</td>\n",
       "      <td>17</td>\n",
       "      <td>259</td>\n",
       "      <td>2017-11-07 13:40:27</td>\n",
       "      <td>NaN</td>\n",
       "      <td>0</td>\n",
       "      <td>7</td>\n",
       "      <td>13</td>\n",
       "      <td>40</td>\n",
       "      <td>27</td>\n",
       "    </tr>\n",
       "    <tr>\n",
       "      <th>2</th>\n",
       "      <td>101424</td>\n",
       "      <td>12</td>\n",
       "      <td>1</td>\n",
       "      <td>19</td>\n",
       "      <td>212</td>\n",
       "      <td>2017-11-07 18:05:24</td>\n",
       "      <td>NaN</td>\n",
       "      <td>0</td>\n",
       "      <td>7</td>\n",
       "      <td>18</td>\n",
       "      <td>5</td>\n",
       "      <td>24</td>\n",
       "    </tr>\n",
       "    <tr>\n",
       "      <th>3</th>\n",
       "      <td>94584</td>\n",
       "      <td>13</td>\n",
       "      <td>1</td>\n",
       "      <td>13</td>\n",
       "      <td>477</td>\n",
       "      <td>2017-11-07 04:58:08</td>\n",
       "      <td>NaN</td>\n",
       "      <td>0</td>\n",
       "      <td>7</td>\n",
       "      <td>4</td>\n",
       "      <td>58</td>\n",
       "      <td>8</td>\n",
       "    </tr>\n",
       "    <tr>\n",
       "      <th>4</th>\n",
       "      <td>68413</td>\n",
       "      <td>12</td>\n",
       "      <td>1</td>\n",
       "      <td>1</td>\n",
       "      <td>178</td>\n",
       "      <td>2017-11-09 09:00:09</td>\n",
       "      <td>NaN</td>\n",
       "      <td>0</td>\n",
       "      <td>9</td>\n",
       "      <td>9</td>\n",
       "      <td>0</td>\n",
       "      <td>9</td>\n",
       "    </tr>\n",
       "  </tbody>\n",
       "</table>\n",
       "</div>"
      ],
      "text/plain": [
       "       ip app device  os channel          click_time attributed_time  \\\n",
       "0   87540  12      1  13     497 2017-11-07 09:30:38             NaN   \n",
       "1  105560  25      1  17     259 2017-11-07 13:40:27             NaN   \n",
       "2  101424  12      1  19     212 2017-11-07 18:05:24             NaN   \n",
       "3   94584  13      1  13     477 2017-11-07 04:58:08             NaN   \n",
       "4   68413  12      1   1     178 2017-11-09 09:00:09             NaN   \n",
       "\n",
       "  is_attributed  day  hour  minute  second  \n",
       "0             0    7     9      30      38  \n",
       "1             0    7    13      40      27  \n",
       "2             0    7    18       5      24  \n",
       "3             0    7     4      58       8  \n",
       "4             0    9     9       0       9  "
      ]
     },
     "execution_count": 34,
     "metadata": {},
     "output_type": "execute_result"
    }
   ],
   "source": [
    "# transform click_time into day, hour, minute and second\n",
    "talking['day'] = talking['click_time'].dt.day\n",
    "talking['hour'] = talking['click_time'].dt.hour\n",
    "talking['minute'] = talking['click_time'].dt.minute\n",
    "talking['second'] = talking['click_time'].dt.second\n",
    "talking.head()"
   ]
  },
  {
   "cell_type": "code",
   "execution_count": 35,
   "metadata": {},
   "outputs": [
    {
     "name": "stdout",
     "output_type": "stream",
     "text": [
      "Index(['ip', 'app', 'device', 'os', 'channel', 'click_time', 'attributed_time',\n",
      "       'is_attributed', 'day', 'hour', 'minute', 'second'],\n",
      "      dtype='object')\n",
      "<class 'pandas.core.frame.DataFrame'>\n",
      "RangeIndex: 100000 entries, 0 to 99999\n",
      "Data columns (total 12 columns):\n",
      "ip                 100000 non-null category\n",
      "app                100000 non-null category\n",
      "device             100000 non-null category\n",
      "os                 100000 non-null category\n",
      "channel            100000 non-null category\n",
      "click_time         100000 non-null category\n",
      "attributed_time    227 non-null category\n",
      "is_attributed      100000 non-null category\n",
      "day                100000 non-null category\n",
      "hour               100000 non-null category\n",
      "minute             100000 non-null category\n",
      "second             100000 non-null category\n",
      "dtypes: category(12)\n",
      "memory usage: 6.8 MB\n"
     ]
    }
   ],
   "source": [
    "# ip, app, device, os, channel, is_attributed and the time features we just created\n",
    "# are encoded to be integers, we tranform them into categorical data\n",
    "heads = talking.columns\n",
    "print(heads)\n",
    "for i in list(range(0,5)) + list(range(-1, -6, -1)):\n",
    "    talking[heads[i]] = talking[heads[i]].astype('category')\n",
    "talking.info()"
   ]
  },
  {
   "cell_type": "code",
   "execution_count": 47,
   "metadata": {},
   "outputs": [],
   "source": [
    "new1 = talking[talking['is_attributed']==1]\n",
    "new0 = talking[talking['is_attributed']==0]\n",
    "def down_sample(new1, new0, rand):\n",
    "    \"\"\"\n",
    "    This function takes in two imbalanced data frames\n",
    "    and returns a concatenated data frame\n",
    "    \"\"\"\n",
    "    if len(new1) > len(new0):\n",
    "        new_tmp = new1\n",
    "        new1 = new0\n",
    "        new0 = new_tmp\n",
    "    frac = len(new1)/len(new0)\n",
    "    new0sample = new0.sample(frac=frac, random_state=rand)\n",
    "    newdata = pd.concat([new0sample,new1])\n",
    "    feature_index = 'is_attributed' # {0, 1, 2, 3}\n",
    "    X = newdata.loc[:, newdata.columns != 'is_attributed']\n",
    "    X = X.loc[:, X.columns != 'click_time']\n",
    "    X = X.loc[:, X.columns != 'attributed_time']\n",
    "    X = X.loc[:, X.columns != 'second']\n",
    "    X = X.loc[:, X.columns != 'minute']\n",
    "    y = newdata['is_attributed']\n",
    "    return X, y"
   ]
  },
  {
   "cell_type": "code",
   "execution_count": 102,
   "metadata": {},
   "outputs": [],
   "source": [
    "new1 = talking[talking['is_attributed']==1]\n",
    "new0 = talking[talking['is_attributed']==0]\n",
    "frac = len(new1)/len(new0)\n",
    "new0sample = new0.sample(frac=frac)\n",
    "newdata = pd.concat([new0sample,new1])\n",
    "feature_index = 'is_attributed' # {0, 1, 2, 3}\n",
    "X = newdata.loc[:, newdata.columns != 'is_attributed']\n",
    "X = X.loc[:, X.columns != 'click_time']\n",
    "X = X.loc[:, X.columns != 'attributed_time']\n",
    "X = X.loc[:, X.columns != 'second']\n",
    "X = X.loc[:, X.columns != 'minute']\n",
    "y = newdata['is_attributed']"
   ]
  },
  {
   "cell_type": "markdown",
   "metadata": {},
   "source": [
    "## Train Model"
   ]
  },
  {
   "cell_type": "code",
   "execution_count": 103,
   "metadata": {},
   "outputs": [],
   "source": [
    "from sklearn.model_selection import train_test_split\n",
    "from sklearn.naive_bayes import GaussianNB\n",
    "from sklearn.linear_model import LogisticRegression\n",
    "from sklearn.ensemble import RandomForestClassifier\n",
    "from sklearn.svm import SVC\n",
    "from sklearn.svm import LinearSVC\n",
    "from sklearn.calibration import calibration_curve\n",
    "from sklearn import datasets, neighbors, linear_model\n",
    "\n",
    "from sklearn.decomposition import PCA\n",
    "from sklearn.preprocessing import StandardScaler, LabelEncoder\n",
    "\n",
    "from sklearn.neural_network import MLPClassifier\n",
    "from sklearn.ensemble import GradientBoostingClassifier\n",
    "from sklearn.gaussian_process.kernels import RBF\n",
    "from sklearn.neighbors import KNeighborsClassifier\n",
    "\n",
    "\n",
    "from sklearn.model_selection import GridSearchCV\n",
    "from sklearn.pipeline import Pipeline\n",
    "\n",
    "from sklearn.metrics import f1_score\n",
    "from sklearn.metrics import balanced_accuracy_score\n",
    "\n",
    "import seaborn as sns; sns.set()\n",
    "import matplotlib.pyplot as plt"
   ]
  },
  {
   "cell_type": "code",
   "execution_count": 104,
   "metadata": {},
   "outputs": [],
   "source": [
    "X_train, X_test, y_train, y_test = train_test_split(X, y, test_size=0.3, random_state=42)"
   ]
  },
  {
   "cell_type": "code",
   "execution_count": 105,
   "metadata": {},
   "outputs": [],
   "source": [
    "pip_knn = Pipeline([('clf', KNeighborsClassifier())])\n",
    "pip_rfc = Pipeline([('clf', RandomForestClassifier(n_estimators=100))])\n",
    "pip_lr = Pipeline([('clf', LogisticRegression(solver='lbfgs'))])\n",
    "pip_gnb = Pipeline([('clf', GaussianNB())])\n",
    "pip_gbc = Pipeline([('clf', GradientBoostingClassifier())])\n",
    "pip_mlp = Pipeline([('clf', MLPClassifier())])\n",
    "pip_svc1 = Pipeline([('clf', LinearSVC())])\n",
    "pip_svc2 = Pipeline([('clf', SVC())])\n",
    "\n",
    "pipelines = [pip_knn, pip_rfc, pip_lr, pip_gnb, pip_gbc, pip_mlp, pip_svc1, pip_svc2]"
   ]
  },
  {
   "cell_type": "code",
   "execution_count": 106,
   "metadata": {},
   "outputs": [
    {
     "name": "stderr",
     "output_type": "stream",
     "text": [
      "/Users/ziyuanhan/anaconda3/lib/python3.6/site-packages/sklearn/svm/base.py:922: ConvergenceWarning: Liblinear failed to converge, increase the number of iterations.\n",
      "  \"the number of iterations.\", ConvergenceWarning)\n"
     ]
    }
   ],
   "source": [
    "d={}\n",
    "for pipe in pipelines:\n",
    "    name = pipe.steps[-1][1].__class__.__name__.split('.')[-1]\n",
    "    score = pipe.fit(X_train, y_train).score(X_test, y_test)\n",
    "    d[name] = score\n",
    "newd = sorted(d.items(), key=lambda x: (-x[1]))"
   ]
  },
  {
   "cell_type": "code",
   "execution_count": 107,
   "metadata": {},
   "outputs": [
    {
     "data": {
      "text/html": [
       "<div>\n",
       "<style scoped>\n",
       "    .dataframe tbody tr th:only-of-type {\n",
       "        vertical-align: middle;\n",
       "    }\n",
       "\n",
       "    .dataframe tbody tr th {\n",
       "        vertical-align: top;\n",
       "    }\n",
       "\n",
       "    .dataframe thead th {\n",
       "        text-align: right;\n",
       "    }\n",
       "</style>\n",
       "<table border=\"1\" class=\"dataframe\">\n",
       "  <thead>\n",
       "    <tr style=\"text-align: right;\">\n",
       "      <th></th>\n",
       "      <th>type</th>\n",
       "      <th>mean_accu</th>\n",
       "    </tr>\n",
       "  </thead>\n",
       "  <tbody>\n",
       "    <tr>\n",
       "      <th>0</th>\n",
       "      <td>GradientBoostingClassifier</td>\n",
       "      <td>0.934307</td>\n",
       "    </tr>\n",
       "    <tr>\n",
       "      <th>1</th>\n",
       "      <td>RandomForestClassifier</td>\n",
       "      <td>0.912409</td>\n",
       "    </tr>\n",
       "    <tr>\n",
       "      <th>2</th>\n",
       "      <td>LogisticRegression</td>\n",
       "      <td>0.766423</td>\n",
       "    </tr>\n",
       "    <tr>\n",
       "      <th>3</th>\n",
       "      <td>KNeighborsClassifier</td>\n",
       "      <td>0.656934</td>\n",
       "    </tr>\n",
       "    <tr>\n",
       "      <th>4</th>\n",
       "      <td>GaussianNB</td>\n",
       "      <td>0.576642</td>\n",
       "    </tr>\n",
       "    <tr>\n",
       "      <th>5</th>\n",
       "      <td>LinearSVC</td>\n",
       "      <td>0.554745</td>\n",
       "    </tr>\n",
       "    <tr>\n",
       "      <th>6</th>\n",
       "      <td>MLPClassifier</td>\n",
       "      <td>0.518248</td>\n",
       "    </tr>\n",
       "    <tr>\n",
       "      <th>7</th>\n",
       "      <td>SVC</td>\n",
       "      <td>0.481752</td>\n",
       "    </tr>\n",
       "  </tbody>\n",
       "</table>\n",
       "</div>"
      ],
      "text/plain": [
       "                         type  mean_accu\n",
       "0  GradientBoostingClassifier   0.934307\n",
       "1      RandomForestClassifier   0.912409\n",
       "2          LogisticRegression   0.766423\n",
       "3        KNeighborsClassifier   0.656934\n",
       "4                  GaussianNB   0.576642\n",
       "5                   LinearSVC   0.554745\n",
       "6               MLPClassifier   0.518248\n",
       "7                         SVC   0.481752"
      ]
     },
     "execution_count": 107,
     "metadata": {},
     "output_type": "execute_result"
    }
   ],
   "source": [
    "# newd = sorted(d.items(), key=lambda x: (-x[1]))\n",
    "\n",
    "# print('KNN score: %f' % knn.fit(X_train, y_train).score(X_test, y_test))\n",
    "# print('lr2 score: %f' % lr.fit(X_train, y_train).score(X_test, y_test))\n",
    "# print('gnb score: %f' % gnb.fit(X_train, y_train).score(X_test, y_test))\n",
    "# print('svc1 score: %f' % svc1.fit(X_train, y_train).score(X_test, y_test))\n",
    "# print('svc2 score: %f' % svc2.fit(X_train, y_train).score(X_test, y_test))\n",
    "# print('rfc score: %f' % rfc.fit(X_train, y_train).score(X_test, y_test))\n",
    "# print('mlp score: %f' % mlp.fit(X_train, y_train).score(X_test, y_test))\n",
    "# print('gbc score: %f' % gbc.fit(X_train, y_train).score(X_test, y_test))\n",
    "tmp_df = pd.DataFrame(columns=['type','mean_accu'])\n",
    "for key,value in newd:\n",
    "    tmp_df = tmp_df.append({'type':key, 'mean_accu':value},ignore_index=True)\n",
    "tmp_df"
   ]
  },
  {
   "cell_type": "code",
   "execution_count": 108,
   "metadata": {},
   "outputs": [
    {
     "name": "stdout",
     "output_type": "stream",
     "text": [
      "We have seen that in certain case there is good and bad, what about we iterate over 100 downsample data?\n"
     ]
    }
   ],
   "source": [
    "print('We have seen that in certain case there is good and bad, what about we iterate over 100 downsample data?')"
   ]
  },
  {
   "cell_type": "code",
   "execution_count": 109,
   "metadata": {},
   "outputs": [
    {
     "data": {
      "text/html": [
       "<div>\n",
       "<style scoped>\n",
       "    .dataframe tbody tr th:only-of-type {\n",
       "        vertical-align: middle;\n",
       "    }\n",
       "\n",
       "    .dataframe tbody tr th {\n",
       "        vertical-align: top;\n",
       "    }\n",
       "\n",
       "    .dataframe thead th {\n",
       "        text-align: right;\n",
       "    }\n",
       "</style>\n",
       "<table border=\"1\" class=\"dataframe\">\n",
       "  <thead>\n",
       "    <tr style=\"text-align: right;\">\n",
       "      <th></th>\n",
       "      <th>type</th>\n",
       "      <th>mean_accu</th>\n",
       "    </tr>\n",
       "  </thead>\n",
       "  <tbody>\n",
       "    <tr>\n",
       "      <th>0</th>\n",
       "      <td>knn</td>\n",
       "      <td>0.1</td>\n",
       "    </tr>\n",
       "  </tbody>\n",
       "</table>\n",
       "</div>"
      ],
      "text/plain": [
       "  type  mean_accu\n",
       "0  knn        0.1"
      ]
     },
     "execution_count": 109,
     "metadata": {},
     "output_type": "execute_result"
    }
   ],
   "source": [
    "# test code\n",
    "plot_df = pd.DataFrame(columns=['type','mean_accu','f1_score'])\n",
    "plot_df = pd.DataFrame(columns=['type','mean_accu'])\n",
    "# dftmp = pd.DataFrame(['knn',0.1,0.2], columns=['type','mean_accu','f1_score'])\n",
    "plot_df = plot_df.append({'type':'knn','mean_accu':0.1},ignore_index=True)\n",
    "plot_df.append({'type':'rnn'},ignore_index=True)\n",
    "plot_df"
   ]
  },
  {
   "cell_type": "code",
   "execution_count": 115,
   "metadata": {},
   "outputs": [],
   "source": [
    "warnings.filterwarnings('ignore')\n",
    "plot_df = pd.DataFrame(columns=['type','mean_accu','f1_score'])\n",
    "for i in range(0,100):\n",
    "    X,y = down_sample(new1, new0, i)\n",
    "    X_train, X_test, y_train, y_test = train_test_split(X, y, test_size=0.3, random_state=42)\n",
    "    for pipe in pipelines:\n",
    "        pipe.fit(X_train, y_train)\n",
    "        name = pipe.steps[-1][1].__class__.__name__.split('.')[-1]\n",
    "        a = balanced_accuracy_score(pipe.predict(X_test), y_test)\n",
    "        b = f1_score(pipe.predict(X_test),y_test)\n",
    "        plot_df = plot_df.append({'type':name,'mean_accu':a, 'f1_score':b}, ignore_index=True)\n",
    "    \n",
    "#     knn = neighbors.KNeighborsClassifier().fit(X_train, y_train)\n",
    "#     a = balanced_accuracy_score(knn.predict(X_test), y_test)\n",
    "#     b = f1_score(knn.predict(X_test),y_test)\n",
    "#     plot_df = plot_df.append({'type':'knn','mean_accu':a, 'f1_score':b},ignore_index=True)\n",
    "    \n",
    "#     rfc = RandomForestClassifier(n_estimators=100).fit(X_train, y_train)\n",
    "#     a = balanced_accuracy_score(rfc.predict(X_test), y_test)\n",
    "#     b = f1_score(rfc.predict(X_test),y_test)\n",
    "#     plot_df = plot_df.append({'type':'rfc','mean_accu':a, 'f1_score':b},ignore_index=True)\n",
    "    \n",
    "#     lr = LogisticRegression(solver='lbfgs').fit(X_train, y_train)   \n",
    "#     a = balanced_accuracy_score(lr.predict(X_test), y_test))\n",
    "#     b = f1_score(lr.predict(X_test),y_test)\n",
    "#     plot_df = plot_df.append({'type':'lr','mean_accu':a, 'f1_score':b},ignore_index=True)\n"
   ]
  },
  {
   "cell_type": "code",
   "execution_count": 116,
   "metadata": {},
   "outputs": [
    {
     "name": "stdout",
     "output_type": "stream",
     "text": [
      "so the best classifers are so far GBC and RFC\n"
     ]
    }
   ],
   "source": [
    "print('so the best classifers are so far GBC and RFC')"
   ]
  },
  {
   "cell_type": "code",
   "execution_count": 117,
   "metadata": {},
   "outputs": [
    {
     "data": {
      "text/html": [
       "<div>\n",
       "<style scoped>\n",
       "    .dataframe tbody tr th:only-of-type {\n",
       "        vertical-align: middle;\n",
       "    }\n",
       "\n",
       "    .dataframe tbody tr th {\n",
       "        vertical-align: top;\n",
       "    }\n",
       "\n",
       "    .dataframe thead th {\n",
       "        text-align: right;\n",
       "    }\n",
       "</style>\n",
       "<table border=\"1\" class=\"dataframe\">\n",
       "  <thead>\n",
       "    <tr style=\"text-align: right;\">\n",
       "      <th></th>\n",
       "      <th>type</th>\n",
       "      <th>mean_accu</th>\n",
       "      <th>f1_score</th>\n",
       "    </tr>\n",
       "  </thead>\n",
       "  <tbody>\n",
       "    <tr>\n",
       "      <th>0</th>\n",
       "      <td>KNeighborsClassifier</td>\n",
       "      <td>0.707640</td>\n",
       "      <td>0.696970</td>\n",
       "    </tr>\n",
       "    <tr>\n",
       "      <th>1</th>\n",
       "      <td>RandomForestClassifier</td>\n",
       "      <td>0.876066</td>\n",
       "      <td>0.874074</td>\n",
       "    </tr>\n",
       "    <tr>\n",
       "      <th>2</th>\n",
       "      <td>LogisticRegression</td>\n",
       "      <td>0.777303</td>\n",
       "      <td>0.780822</td>\n",
       "    </tr>\n",
       "    <tr>\n",
       "      <th>3</th>\n",
       "      <td>GaussianNB</td>\n",
       "      <td>0.766304</td>\n",
       "      <td>0.761194</td>\n",
       "    </tr>\n",
       "    <tr>\n",
       "      <th>4</th>\n",
       "      <td>GradientBoostingClassifier</td>\n",
       "      <td>0.883795</td>\n",
       "      <td>0.882353</td>\n",
       "    </tr>\n",
       "  </tbody>\n",
       "</table>\n",
       "</div>"
      ],
      "text/plain": [
       "                         type  mean_accu  f1_score\n",
       "0        KNeighborsClassifier   0.707640  0.696970\n",
       "1      RandomForestClassifier   0.876066  0.874074\n",
       "2          LogisticRegression   0.777303  0.780822\n",
       "3                  GaussianNB   0.766304  0.761194\n",
       "4  GradientBoostingClassifier   0.883795  0.882353"
      ]
     },
     "execution_count": 117,
     "metadata": {},
     "output_type": "execute_result"
    }
   ],
   "source": [
    "# import seaborn as sns; sns.set()\n",
    "# import matplotlib.pyplot as plt\n",
    "# tips = sns.load_dataset(\"tips\")\n",
    "plot_df.head()"
   ]
  },
  {
   "cell_type": "code",
   "execution_count": 118,
   "metadata": {},
   "outputs": [
    {
     "data": {
      "image/png": "[encoded data removed]",
      "text/plain": [
       "<Figure size 432x288 with 1 Axes>"
      ]
     },
     "metadata": {},
     "output_type": "display_data"
    }
   ],
   "source": [
    "ax = sns.scatterplot(x=\"mean_accu\", y=\"f1_score\", hue=\"type\", data=plot_df)"
   ]
  },
  {
   "cell_type": "code",
   "execution_count": null,
   "metadata": {},
   "outputs": [],
   "source": [
    "print('So the best two are random forest and gradient booosting, we would further use these two to improve the result using grid search')"
   ]
  },
  {
   "cell_type": "code",
   "execution_count": null,
   "metadata": {},
   "outputs": [],
   "source": [
    "def grid_search_rfc(X_train, X_test, y_train, y_test):\n",
    "    pipe_grid = Pipeline([('pca', PCA()),\n",
    "                          ('clf', KNeighborsClassifier())])\n",
    "    \n",
    "    grid_params = dict(pca__n_components=range(1,8),\n",
    "                       clf__n_neighbors=range(1,20))\n",
    "\n",
    "    gs = GridSearchCV(estimator=pipe_grid,  \n",
    "                      param_grid=grid_params,\n",
    "                      scoring='accuracy',\n",
    "                      cv=10)\n",
    "\n",
    "    gs.fit(X_train, y_train)\n",
    "    accuracy = gs.score(X_test, y_test)\n",
    "    best_params = gs.best_params_\n",
    "    \n",
    "    return accuracy, best_params"
   ]
  },
  {
   "cell_type": "code",
   "execution_count": null,
   "metadata": {},
   "outputs": [],
   "source": [
    "grid_search_knn(X_train, X_test, y_train, y_test)"
   ]
  },
  {
   "cell_type": "code",
   "execution_count": null,
   "metadata": {},
   "outputs": [],
   "source": [
    "def grid_search_gbc(X_train, X_test, y_train, y_test):\n",
    "    \"\"\"\n",
    "    1. Create a pipeline with PCA into k-NN.\n",
    "    2. Define a grid search for n_components of PCA and n_neighbors of k-NN\n",
    "    3. Conduct grid search\n",
    "    4. Return score (accuracy) and dictionary of best parameters\n",
    "    \"\"\"\n",
    "    pipe_grid = Pipeline([('pca', PCA()),\n",
    "                          ('clf', LogisticRegression(solver='lbfgs'))])\n",
    "    \n",
    "    grid_params = dict(pca__n_components=range(1,8),\n",
    "                       clf__penalty=['l1'],\n",
    "                       clf__solver=['liblinear', 'saga'])\n",
    "                    \n",
    "\n",
    "    gs = GridSearchCV(estimator=pipe_grid,  \n",
    "                      param_grid=grid_params,\n",
    "                      scoring='accuracy',\n",
    "                      cv=10)\n",
    "\n",
    "    gs.fit(X_train, y_train)\n",
    "    accuracy = gs.score(X_test, y_test)\n",
    "    best_params = gs.best_params_\n",
    "    \n",
    "    return accuracy, best_params"
   ]
  },
  {
   "cell_type": "code",
   "execution_count": null,
   "metadata": {},
   "outputs": [],
   "source": [
    "grid_search_lrl1(X_train, X_test, y_train, y_test)"
   ]
  },
  {
   "cell_type": "code",
   "execution_count": null,
   "metadata": {},
   "outputs": [],
   "source": [
    "X.head()"
   ]
  },
  {
   "cell_type": "code",
   "execution_count": null,
   "metadata": {},
   "outputs": [],
   "source": []
  },
  {
   "cell_type": "markdown",
   "metadata": {},
   "source": [
    "## Revised Feature Engineering using insights from Kaggle"
   ]
  },
  {
   "cell_type": "code",
   "execution_count": null,
   "metadata": {},
   "outputs": [],
   "source": []
  }
 ],
 "metadata": {
  "kernelspec": {
   "display_name": "Python 3",
   "language": "python",
   "name": "python3"
  },
  "language_info": {
   "codemirror_mode": {
    "name": "ipython",
    "version": 3
   },
   "file_extension": ".py",
   "mimetype": "text/x-python",
   "name": "python",
   "nbconvert_exporter": "python",
   "pygments_lexer": "ipython3",
   "version": "3.6.6"
  }
 },
 "nbformat": 4,
 "nbformat_minor": 2
}
