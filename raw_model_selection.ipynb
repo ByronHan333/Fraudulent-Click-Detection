{
 "cells": [
  {
   "cell_type": "code",
   "execution_count": 1,
   "metadata": {},
   "outputs": [],
   "source": [
    "import pandas as pd\n",
    "import numpy as np\n",
    "import matplotlib.pyplot as plt\n",
    "import math\n",
    "import warnings\n",
    "# warnings.filterwarnings(action='once')\n",
    "warnings.filterwarnings('ignore')\n",
    "\n",
    "%matplotlib inline"
   ]
  },
  {
   "cell_type": "code",
   "execution_count": 2,
   "metadata": {},
   "outputs": [],
   "source": [
    "talking = pd.read_csv('data/model_selection2m.csv', parse_dates = ['click_time'])"
   ]
  },
  {
   "cell_type": "code",
   "execution_count": 3,
   "metadata": {},
   "outputs": [
    {
     "data": {
      "text/plain": [
       "2000000"
      ]
     },
     "execution_count": 3,
     "metadata": {},
     "output_type": "execute_result"
    }
   ],
   "source": [
    "len(talking)"
   ]
  },
  {
   "cell_type": "code",
   "execution_count": 4,
   "metadata": {},
   "outputs": [
    {
     "data": {
      "text/html": [
       "<div>\n",
       "<style scoped>\n",
       "    .dataframe tbody tr th:only-of-type {\n",
       "        vertical-align: middle;\n",
       "    }\n",
       "\n",
       "    .dataframe tbody tr th {\n",
       "        vertical-align: top;\n",
       "    }\n",
       "\n",
       "    .dataframe thead th {\n",
       "        text-align: right;\n",
       "    }\n",
       "</style>\n",
       "<table border=\"1\" class=\"dataframe\">\n",
       "  <thead>\n",
       "    <tr style=\"text-align: right;\">\n",
       "      <th></th>\n",
       "      <th>Unnamed: 0</th>\n",
       "      <th>ip</th>\n",
       "      <th>app</th>\n",
       "      <th>device</th>\n",
       "      <th>os</th>\n",
       "      <th>channel</th>\n",
       "      <th>click_time</th>\n",
       "      <th>attributed_time</th>\n",
       "      <th>is_attributed</th>\n",
       "      <th>day</th>\n",
       "      <th>hour</th>\n",
       "      <th>minute</th>\n",
       "      <th>second</th>\n",
       "    </tr>\n",
       "  </thead>\n",
       "  <tbody>\n",
       "    <tr>\n",
       "      <th>0</th>\n",
       "      <td>31655873</td>\n",
       "      <td>197955</td>\n",
       "      <td>9</td>\n",
       "      <td>1</td>\n",
       "      <td>13</td>\n",
       "      <td>258</td>\n",
       "      <td>2017-11-07 06:45:50</td>\n",
       "      <td>NaN</td>\n",
       "      <td>0</td>\n",
       "      <td>7</td>\n",
       "      <td>6</td>\n",
       "      <td>45</td>\n",
       "      <td>50</td>\n",
       "    </tr>\n",
       "    <tr>\n",
       "      <th>1</th>\n",
       "      <td>105493957</td>\n",
       "      <td>5314</td>\n",
       "      <td>2</td>\n",
       "      <td>1</td>\n",
       "      <td>27</td>\n",
       "      <td>477</td>\n",
       "      <td>2017-11-08 11:17:28</td>\n",
       "      <td>NaN</td>\n",
       "      <td>0</td>\n",
       "      <td>8</td>\n",
       "      <td>11</td>\n",
       "      <td>17</td>\n",
       "      <td>28</td>\n",
       "    </tr>\n",
       "    <tr>\n",
       "      <th>2</th>\n",
       "      <td>146879719</td>\n",
       "      <td>48782</td>\n",
       "      <td>18</td>\n",
       "      <td>1</td>\n",
       "      <td>13</td>\n",
       "      <td>107</td>\n",
       "      <td>2017-11-09 04:33:03</td>\n",
       "      <td>NaN</td>\n",
       "      <td>0</td>\n",
       "      <td>9</td>\n",
       "      <td>4</td>\n",
       "      <td>33</td>\n",
       "      <td>3</td>\n",
       "    </tr>\n",
       "    <tr>\n",
       "      <th>3</th>\n",
       "      <td>173149719</td>\n",
       "      <td>83230</td>\n",
       "      <td>3</td>\n",
       "      <td>1</td>\n",
       "      <td>13</td>\n",
       "      <td>115</td>\n",
       "      <td>2017-11-09 12:27:31</td>\n",
       "      <td>NaN</td>\n",
       "      <td>0</td>\n",
       "      <td>9</td>\n",
       "      <td>12</td>\n",
       "      <td>27</td>\n",
       "      <td>31</td>\n",
       "    </tr>\n",
       "    <tr>\n",
       "      <th>4</th>\n",
       "      <td>20397653</td>\n",
       "      <td>100896</td>\n",
       "      <td>9</td>\n",
       "      <td>1</td>\n",
       "      <td>27</td>\n",
       "      <td>445</td>\n",
       "      <td>2017-11-07 03:20:18</td>\n",
       "      <td>NaN</td>\n",
       "      <td>0</td>\n",
       "      <td>7</td>\n",
       "      <td>3</td>\n",
       "      <td>20</td>\n",
       "      <td>18</td>\n",
       "    </tr>\n",
       "  </tbody>\n",
       "</table>\n",
       "</div>"
      ],
      "text/plain": [
       "   Unnamed: 0      ip  app  device  os  channel          click_time  \\\n",
       "0    31655873  197955    9       1  13      258 2017-11-07 06:45:50   \n",
       "1   105493957    5314    2       1  27      477 2017-11-08 11:17:28   \n",
       "2   146879719   48782   18       1  13      107 2017-11-09 04:33:03   \n",
       "3   173149719   83230    3       1  13      115 2017-11-09 12:27:31   \n",
       "4    20397653  100896    9       1  27      445 2017-11-07 03:20:18   \n",
       "\n",
       "  attributed_time  is_attributed  day  hour  minute  second  \n",
       "0             NaN              0    7     6      45      50  \n",
       "1             NaN              0    8    11      17      28  \n",
       "2             NaN              0    9     4      33       3  \n",
       "3             NaN              0    9    12      27      31  \n",
       "4             NaN              0    7     3      20      18  "
      ]
     },
     "execution_count": 4,
     "metadata": {},
     "output_type": "execute_result"
    }
   ],
   "source": [
    "# transform click_time into day, hour, minute and second\n",
    "talking['day'] = talking['click_time'].dt.day\n",
    "talking['hour'] = talking['click_time'].dt.hour\n",
    "talking['minute'] = talking['click_time'].dt.minute\n",
    "talking['second'] = talking['click_time'].dt.second\n",
    "talking.head()"
   ]
  },
  {
   "cell_type": "code",
   "execution_count": 5,
   "metadata": {},
   "outputs": [
    {
     "name": "stdout",
     "output_type": "stream",
     "text": [
      "Index(['Unnamed: 0', 'ip', 'app', 'device', 'os', 'channel', 'click_time',\n",
      "       'attributed_time', 'is_attributed', 'day', 'hour', 'minute', 'second'],\n",
      "      dtype='object')\n",
      "<class 'pandas.core.frame.DataFrame'>\n",
      "RangeIndex: 2000000 entries, 0 to 1999999\n",
      "Data columns (total 13 columns):\n",
      "Unnamed: 0         category\n",
      "ip                 category\n",
      "app                category\n",
      "device             category\n",
      "os                 category\n",
      "channel            int64\n",
      "click_time         datetime64[ns]\n",
      "attributed_time    object\n",
      "is_attributed      category\n",
      "day                category\n",
      "hour               category\n",
      "minute             category\n",
      "second             category\n",
      "dtypes: category(10), datetime64[ns](1), int64(1), object(1)\n",
      "memory usage: 180.6+ MB\n"
     ]
    }
   ],
   "source": [
    "heads = talking.columns\n",
    "print(heads)\n",
    "for i in list(range(0,5)) + list(range(-1, -6, -1)):\n",
    "    talking[heads[i]] = talking[heads[i]].astype('category')\n",
    "talking.info()"
   ]
  },
  {
   "cell_type": "code",
   "execution_count": 6,
   "metadata": {},
   "outputs": [],
   "source": [
    "from sklearn.model_selection import train_test_split\n",
    "from sklearn.naive_bayes import GaussianNB\n",
    "from sklearn.linear_model import LogisticRegression\n",
    "from sklearn.ensemble import RandomForestClassifier\n",
    "from sklearn.svm import SVC\n",
    "from sklearn.svm import LinearSVC\n",
    "from sklearn.calibration import calibration_curve\n",
    "from sklearn import datasets, neighbors, linear_model\n",
    "\n",
    "from sklearn.decomposition import PCA\n",
    "from sklearn.preprocessing import StandardScaler, LabelEncoder\n",
    "\n",
    "from sklearn.neural_network import MLPClassifier\n",
    "from sklearn.ensemble import GradientBoostingClassifier\n",
    "from sklearn.gaussian_process.kernels import RBF\n",
    "from sklearn.neighbors import KNeighborsClassifier\n",
    "from xgboost import XGBClassifier\n",
    "from lightgbm import LGBMClassifier\n",
    "\n",
    "\n",
    "from sklearn.model_selection import GridSearchCV\n",
    "from sklearn.pipeline import Pipeline\n",
    "\n",
    "from sklearn.metrics import f1_score\n",
    "from sklearn.metrics import balanced_accuracy_score\n",
    "from sklearn.metrics import roc_auc_score\n",
    "\n",
    "import seaborn as sns; sns.set()\n",
    "import matplotlib.pyplot as plt\n"
   ]
  },
  {
   "cell_type": "code",
   "execution_count": 7,
   "metadata": {},
   "outputs": [
    {
     "data": {
      "text/plain": [
       "4888"
      ]
     },
     "execution_count": 7,
     "metadata": {},
     "output_type": "execute_result"
    }
   ],
   "source": [
    "len(talking[talking['is_attributed']==1])"
   ]
  },
  {
   "cell_type": "code",
   "execution_count": 8,
   "metadata": {},
   "outputs": [],
   "source": [
    "talking = talking.drop(['attributed_time','Unnamed: 0','click_time'],axis=1)"
   ]
  },
  {
   "cell_type": "code",
   "execution_count": 9,
   "metadata": {},
   "outputs": [
    {
     "data": {
      "text/plain": [
       "2000000"
      ]
     },
     "execution_count": 9,
     "metadata": {},
     "output_type": "execute_result"
    }
   ],
   "source": [
    "len(talking)"
   ]
  },
  {
   "cell_type": "code",
   "execution_count": 10,
   "metadata": {},
   "outputs": [],
   "source": [
    "# down sample the train set\n",
    "df_majority = talking[talking['is_attributed']==0]\n",
    "df_minority = talking[talking['is_attributed']==1]\n",
    "\n",
    "df_majority_downsampled = df_majority.sample(replace=False,    # sample without replacement\n",
    "                                frac=len(df_minority)/len(df_majority),     \n",
    "                                random_state=42) # reproducible results\n",
    "\n",
    "balanced_train = pd.concat([df_majority_downsampled, df_minority])\n",
    "# balanced_train = balanced_train.sample(frac=1)\n",
    "\n",
    "# balanced_train = balanced_train.drop(columns=['click_time','attributed_time'])\n",
    "balanced_train['is_attributed'] = balanced_train['is_attributed'].astype('int64')"
   ]
  },
  {
   "cell_type": "code",
   "execution_count": 11,
   "metadata": {},
   "outputs": [
    {
     "data": {
      "text/plain": [
       "4888"
      ]
     },
     "execution_count": 11,
     "metadata": {},
     "output_type": "execute_result"
    }
   ],
   "source": [
    "talking[talking['is_attributed']==1]\n",
    "len(df_minority)"
   ]
  },
  {
   "cell_type": "code",
   "execution_count": 12,
   "metadata": {},
   "outputs": [
    {
     "data": {
      "text/plain": [
       "(9776, 9)"
      ]
     },
     "execution_count": 12,
     "metadata": {},
     "output_type": "execute_result"
    }
   ],
   "source": [
    "y = balanced_train['is_attributed']\n",
    "X = balanced_train.drop(['is_attributed'], axis=1)\n",
    "X.shape"
   ]
  },
  {
   "cell_type": "code",
   "execution_count": 13,
   "metadata": {},
   "outputs": [],
   "source": [
    "X_train, X_test, y_train, y_test = train_test_split(X, y, test_size=0.3, random_state=42)"
   ]
  },
  {
   "cell_type": "code",
   "execution_count": 15,
   "metadata": {},
   "outputs": [],
   "source": [
    "pip_knn = Pipeline([('clf', KNeighborsClassifier())])\n",
    "pip_rfc = Pipeline([('clf', RandomForestClassifier(n_estimators=100))])\n",
    "pip_lr = Pipeline([('clf', LogisticRegression(solver='lbfgs'))])\n",
    "pip_gnb = Pipeline([('clf', GaussianNB())])\n",
    "pip_gbc = Pipeline([('clf', GradientBoostingClassifier())])\n",
    "pip_mlp = Pipeline([('clf', MLPClassifier())])\n",
    "pip_svc1 = Pipeline([('clf', LinearSVC())])\n",
    "pip_svc2 = Pipeline([('clf', SVC())])\n",
    "pip_xgb = Pipeline([('clf', XGBClassifier())])\n",
    "# pip_lgb = Pipeline([('clf', LGBMClassifier())])\n",
    "\n",
    "# pipelines = [pip_knn, pip_rfc, pip_lr, pip_gnb, pip_gbc, pip_mlp, pip_svc1, pip_svc2, pip_xgb, pip_lgb]\n",
    "pipelines = [pip_knn, pip_rfc, pip_lr, pip_gnb, pip_gbc, pip_mlp, pip_svc1, pip_svc2, pip_xgb]"
   ]
  },
  {
   "cell_type": "code",
   "execution_count": 16,
   "metadata": {},
   "outputs": [],
   "source": [
    "warnings.filterwarnings('ignore')\n",
    "\n",
    "plot_df = pd.DataFrame(columns=['type','roc_auc','f1_score'])\n",
    "for i in range(0,100):\n",
    "    X_train, X_test, y_train, y_test = train_test_split(X, y, test_size=0.2, random_state=i*2)\n",
    "    for pipe in pipelines:\n",
    "        pipe.fit(X_train.values, y_train)\n",
    "        name = pipe.steps[-1][1].__class__.__name__.split('.')[-1]\n",
    "        a = roc_auc_score(y_test, pipe.predict(X_test.values))\n",
    "        b = f1_score(y_test,pipe.predict(X_test.values))\n",
    "        plot_df = plot_df.append({'type':name,'roc_auc':a, 'f1_score':b}, ignore_index=True)"
   ]
  },
  {
   "cell_type": "code",
   "execution_count": 21,
   "metadata": {},
   "outputs": [
    {
     "data": {
      "text/html": [
       "<div>\n",
       "<style scoped>\n",
       "    .dataframe tbody tr th:only-of-type {\n",
       "        vertical-align: middle;\n",
       "    }\n",
       "\n",
       "    .dataframe tbody tr th {\n",
       "        vertical-align: top;\n",
       "    }\n",
       "\n",
       "    .dataframe thead th {\n",
       "        text-align: right;\n",
       "    }\n",
       "</style>\n",
       "<table border=\"1\" class=\"dataframe\">\n",
       "  <thead>\n",
       "    <tr style=\"text-align: right;\">\n",
       "      <th></th>\n",
       "      <th>type</th>\n",
       "      <th>roc_auc</th>\n",
       "      <th>f1_score</th>\n",
       "    </tr>\n",
       "  </thead>\n",
       "  <tbody>\n",
       "    <tr>\n",
       "      <th>532</th>\n",
       "      <td>RandomForestClassifier</td>\n",
       "      <td>0.925104</td>\n",
       "      <td>0.921674</td>\n",
       "    </tr>\n",
       "    <tr>\n",
       "      <th>892</th>\n",
       "      <td>RandomForestClassifier</td>\n",
       "      <td>0.921566</td>\n",
       "      <td>0.916574</td>\n",
       "    </tr>\n",
       "    <tr>\n",
       "      <th>539</th>\n",
       "      <td>XGBClassifier</td>\n",
       "      <td>0.921459</td>\n",
       "      <td>0.916983</td>\n",
       "    </tr>\n",
       "    <tr>\n",
       "      <th>292</th>\n",
       "      <td>GradientBoostingClassifier</td>\n",
       "      <td>0.920768</td>\n",
       "      <td>0.916395</td>\n",
       "    </tr>\n",
       "    <tr>\n",
       "      <th>535</th>\n",
       "      <td>GradientBoostingClassifier</td>\n",
       "      <td>0.920475</td>\n",
       "      <td>0.916442</td>\n",
       "    </tr>\n",
       "    <tr>\n",
       "      <th>845</th>\n",
       "      <td>XGBClassifier</td>\n",
       "      <td>0.920102</td>\n",
       "      <td>0.916261</td>\n",
       "    </tr>\n",
       "    <tr>\n",
       "      <th>289</th>\n",
       "      <td>RandomForestClassifier</td>\n",
       "      <td>0.919767</td>\n",
       "      <td>0.915493</td>\n",
       "    </tr>\n",
       "    <tr>\n",
       "      <th>352</th>\n",
       "      <td>RandomForestClassifier</td>\n",
       "      <td>0.919715</td>\n",
       "      <td>0.915858</td>\n",
       "    </tr>\n",
       "    <tr>\n",
       "      <th>445</th>\n",
       "      <td>GradientBoostingClassifier</td>\n",
       "      <td>0.919323</td>\n",
       "      <td>0.915236</td>\n",
       "    </tr>\n",
       "    <tr>\n",
       "      <th>667</th>\n",
       "      <td>RandomForestClassifier</td>\n",
       "      <td>0.919143</td>\n",
       "      <td>0.914474</td>\n",
       "    </tr>\n",
       "  </tbody>\n",
       "</table>\n",
       "</div>"
      ],
      "text/plain": [
       "                           type   roc_auc  f1_score\n",
       "532      RandomForestClassifier  0.925104  0.921674\n",
       "892      RandomForestClassifier  0.921566  0.916574\n",
       "539               XGBClassifier  0.921459  0.916983\n",
       "292  GradientBoostingClassifier  0.920768  0.916395\n",
       "535  GradientBoostingClassifier  0.920475  0.916442\n",
       "845               XGBClassifier  0.920102  0.916261\n",
       "289      RandomForestClassifier  0.919767  0.915493\n",
       "352      RandomForestClassifier  0.919715  0.915858\n",
       "445  GradientBoostingClassifier  0.919323  0.915236\n",
       "667      RandomForestClassifier  0.919143  0.914474"
      ]
     },
     "execution_count": 21,
     "metadata": {},
     "output_type": "execute_result"
    }
   ],
   "source": [
    "plot_df.sort_values(['roc_auc', 'f1_score'], ascending=[False, False]).head(10)"
   ]
  },
  {
   "cell_type": "code",
   "execution_count": 20,
   "metadata": {},
   "outputs": [],
   "source": [
    "file_name='./data/pipeline_roc_vs_f1.csv'\n",
    "plot_df.to_csv(file_name, sep=',', encoding='utf-8')"
   ]
  },
  {
   "cell_type": "code",
   "execution_count": 25,
   "metadata": {},
   "outputs": [
    {
     "data": {
      "image/png": "[encoded data removed]",
      "text/plain": [
       "<Figure size 576x432 with 1 Axes>"
      ]
     },
     "metadata": {},
     "output_type": "display_data"
    }
   ],
   "source": [
    "sns.set(rc={'figure.figsize':(8,6)})\n",
    "ax = sns.scatterplot(x=\"roc_auc\", y=\"f1_score\", hue=\"type\", data=plot_df)"
   ]
  },
  {
   "cell_type": "markdown",
   "metadata": {},
   "source": [
    "so top 3 are xgb, rfc and gbc"
   ]
  },
  {
   "cell_type": "code",
   "execution_count": null,
   "metadata": {},
   "outputs": [],
   "source": []
  }
 ],
 "metadata": {
  "kernelspec": {
   "display_name": "Python 3",
   "language": "python",
   "name": "python3"
  },
  "language_info": {
   "codemirror_mode": {
    "name": "ipython",
    "version": 3
   },
   "file_extension": ".py",
   "mimetype": "text/x-python",
   "name": "python",
   "nbconvert_exporter": "python",
   "pygments_lexer": "ipython3",
   "version": "3.6.6"
  }
 },
 "nbformat": 4,
 "nbformat_minor": 2
}
