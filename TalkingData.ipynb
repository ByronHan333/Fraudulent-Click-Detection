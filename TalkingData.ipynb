{
 "cells": [
  {
   "cell_type": "markdown",
   "metadata": {},
   "source": [
    "Final Project Check-in 2018-11-16\n",
    "------"
   ]
  },
  {
   "cell_type": "markdown",
   "metadata": {},
   "source": [
    "Group Name\n",
    "-----\n",
    "Project Impossible"
   ]
  },
  {
   "cell_type": "markdown",
   "metadata": {},
   "source": [
    "Student Names\n",
    "----"
   ]
  },
  {
   "cell_type": "markdown",
   "metadata": {},
   "source": [
    "1. Yuhan Wang\n",
    "2. Byron Han\n",
    "3. Jinghui Zhao\n",
    "4. Liying Li\n",
    "5. Shulun Chen"
   ]
  },
  {
   "cell_type": "markdown",
   "metadata": {},
   "source": [
    "Load Data\n",
    "-----"
   ]
  },
  {
   "cell_type": "code",
   "execution_count": 35,
   "metadata": {},
   "outputs": [],
   "source": [
    "import pandas as pd\n",
    "import numpy as np\n",
    "import matplotlib.pyplot as plt\n",
    "import math\n",
    "\n",
    "%matplotlib inline"
   ]
  },
  {
   "cell_type": "code",
   "execution_count": 36,
   "metadata": {},
   "outputs": [],
   "source": [
    "talking = pd.read_csv('talking.csv', parse_dates = ['click_time'])"
   ]
  },
  {
   "cell_type": "markdown",
   "metadata": {},
   "source": [
    "### Data Overview\n",
    "------\n",
    "Columns:\n",
    "\n",
    "• ip: ip address of click\n",
    "\n",
    "• app: app id for marketing\n",
    "\n",
    "• device: device type id of user mobile phone (e.g., iphone 6 plus, iphone 7, huawei mate 7, etc.)\n",
    "\n",
    "• os: os version id of user mobile phone\n",
    "\n",
    "• channel: channel id of mobile ad publisher\n",
    "\n",
    "• click_time: timestamp of click (UTC)\n",
    "\n",
    "• attributed_time: if user download the app for after clicking an ad, this is the time of the app download\n",
    "\n",
    "• is_attributed: the target that is to be predicted, indicating the app was downloaded"
   ]
  },
  {
   "cell_type": "code",
   "execution_count": 37,
   "metadata": {},
   "outputs": [
    {
     "data": {
      "text/plain": [
       "184903890"
      ]
     },
     "execution_count": 37,
     "metadata": {},
     "output_type": "execute_result"
    }
   ],
   "source": [
    "# number of rows\n",
    "len(talking)"
   ]
  },
  {
   "cell_type": "code",
   "execution_count": 38,
   "metadata": {},
   "outputs": [
    {
     "name": "stdout",
     "output_type": "stream",
     "text": [
      "<class 'pandas.core.frame.DataFrame'>\n",
      "RangeIndex: 184903890 entries, 0 to 184903889\n",
      "Data columns (total 8 columns):\n",
      "ip                 int64\n",
      "app                int64\n",
      "device             int64\n",
      "os                 int64\n",
      "channel            int64\n",
      "click_time         datetime64[ns]\n",
      "attributed_time    object\n",
      "is_attributed      int64\n",
      "dtypes: datetime64[ns](1), int64(6), object(1)\n",
      "memory usage: 11.0+ GB\n"
     ]
    }
   ],
   "source": [
    "talking.info()"
   ]
  },
  {
   "cell_type": "code",
   "execution_count": 39,
   "metadata": {},
   "outputs": [
    {
     "data": {
      "text/html": [
       "<div>\n",
       "<style scoped>\n",
       "    .dataframe tbody tr th:only-of-type {\n",
       "        vertical-align: middle;\n",
       "    }\n",
       "\n",
       "    .dataframe tbody tr th {\n",
       "        vertical-align: top;\n",
       "    }\n",
       "\n",
       "    .dataframe thead th {\n",
       "        text-align: right;\n",
       "    }\n",
       "</style>\n",
       "<table border=\"1\" class=\"dataframe\">\n",
       "  <thead>\n",
       "    <tr style=\"text-align: right;\">\n",
       "      <th></th>\n",
       "      <th>ip</th>\n",
       "      <th>app</th>\n",
       "      <th>device</th>\n",
       "      <th>os</th>\n",
       "      <th>channel</th>\n",
       "      <th>click_time</th>\n",
       "      <th>attributed_time</th>\n",
       "      <th>is_attributed</th>\n",
       "    </tr>\n",
       "  </thead>\n",
       "  <tbody>\n",
       "    <tr>\n",
       "      <th>0</th>\n",
       "      <td>83230</td>\n",
       "      <td>3</td>\n",
       "      <td>1</td>\n",
       "      <td>13</td>\n",
       "      <td>379</td>\n",
       "      <td>2017-11-06 14:32:21</td>\n",
       "      <td>NaN</td>\n",
       "      <td>0</td>\n",
       "    </tr>\n",
       "    <tr>\n",
       "      <th>1</th>\n",
       "      <td>17357</td>\n",
       "      <td>3</td>\n",
       "      <td>1</td>\n",
       "      <td>19</td>\n",
       "      <td>379</td>\n",
       "      <td>2017-11-06 14:33:34</td>\n",
       "      <td>NaN</td>\n",
       "      <td>0</td>\n",
       "    </tr>\n",
       "    <tr>\n",
       "      <th>2</th>\n",
       "      <td>35810</td>\n",
       "      <td>3</td>\n",
       "      <td>1</td>\n",
       "      <td>13</td>\n",
       "      <td>379</td>\n",
       "      <td>2017-11-06 14:34:12</td>\n",
       "      <td>NaN</td>\n",
       "      <td>0</td>\n",
       "    </tr>\n",
       "    <tr>\n",
       "      <th>3</th>\n",
       "      <td>45745</td>\n",
       "      <td>14</td>\n",
       "      <td>1</td>\n",
       "      <td>13</td>\n",
       "      <td>478</td>\n",
       "      <td>2017-11-06 14:34:52</td>\n",
       "      <td>NaN</td>\n",
       "      <td>0</td>\n",
       "    </tr>\n",
       "    <tr>\n",
       "      <th>4</th>\n",
       "      <td>161007</td>\n",
       "      <td>3</td>\n",
       "      <td>1</td>\n",
       "      <td>13</td>\n",
       "      <td>379</td>\n",
       "      <td>2017-11-06 14:35:08</td>\n",
       "      <td>NaN</td>\n",
       "      <td>0</td>\n",
       "    </tr>\n",
       "  </tbody>\n",
       "</table>\n",
       "</div>"
      ],
      "text/plain": [
       "       ip  app  device  os  channel          click_time attributed_time  \\\n",
       "0   83230    3       1  13      379 2017-11-06 14:32:21             NaN   \n",
       "1   17357    3       1  19      379 2017-11-06 14:33:34             NaN   \n",
       "2   35810    3       1  13      379 2017-11-06 14:34:12             NaN   \n",
       "3   45745   14       1  13      478 2017-11-06 14:34:52             NaN   \n",
       "4  161007    3       1  13      379 2017-11-06 14:35:08             NaN   \n",
       "\n",
       "   is_attributed  \n",
       "0              0  \n",
       "1              0  \n",
       "2              0  \n",
       "3              0  \n",
       "4              0  "
      ]
     },
     "execution_count": 39,
     "metadata": {},
     "output_type": "execute_result"
    }
   ],
   "source": [
    "talking.head()"
   ]
  },
  {
   "cell_type": "code",
   "execution_count": 40,
   "metadata": {},
   "outputs": [
    {
     "data": {
      "text/html": [
       "<div>\n",
       "<style scoped>\n",
       "    .dataframe tbody tr th:only-of-type {\n",
       "        vertical-align: middle;\n",
       "    }\n",
       "\n",
       "    .dataframe tbody tr th {\n",
       "        vertical-align: top;\n",
       "    }\n",
       "\n",
       "    .dataframe thead th {\n",
       "        text-align: right;\n",
       "    }\n",
       "</style>\n",
       "<table border=\"1\" class=\"dataframe\">\n",
       "  <thead>\n",
       "    <tr style=\"text-align: right;\">\n",
       "      <th></th>\n",
       "      <th>ip</th>\n",
       "      <th>app</th>\n",
       "      <th>device</th>\n",
       "      <th>os</th>\n",
       "      <th>channel</th>\n",
       "      <th>click_time</th>\n",
       "      <th>attributed_time</th>\n",
       "      <th>is_attributed</th>\n",
       "    </tr>\n",
       "  </thead>\n",
       "  <tbody>\n",
       "    <tr>\n",
       "      <th>184903885</th>\n",
       "      <td>121312</td>\n",
       "      <td>12</td>\n",
       "      <td>1</td>\n",
       "      <td>10</td>\n",
       "      <td>340</td>\n",
       "      <td>2017-11-09 16:00:00</td>\n",
       "      <td>NaN</td>\n",
       "      <td>0</td>\n",
       "    </tr>\n",
       "    <tr>\n",
       "      <th>184903886</th>\n",
       "      <td>46894</td>\n",
       "      <td>3</td>\n",
       "      <td>1</td>\n",
       "      <td>19</td>\n",
       "      <td>211</td>\n",
       "      <td>2017-11-09 16:00:00</td>\n",
       "      <td>NaN</td>\n",
       "      <td>0</td>\n",
       "    </tr>\n",
       "    <tr>\n",
       "      <th>184903887</th>\n",
       "      <td>320126</td>\n",
       "      <td>1</td>\n",
       "      <td>1</td>\n",
       "      <td>13</td>\n",
       "      <td>274</td>\n",
       "      <td>2017-11-09 16:00:00</td>\n",
       "      <td>NaN</td>\n",
       "      <td>0</td>\n",
       "    </tr>\n",
       "    <tr>\n",
       "      <th>184903888</th>\n",
       "      <td>189286</td>\n",
       "      <td>12</td>\n",
       "      <td>1</td>\n",
       "      <td>37</td>\n",
       "      <td>259</td>\n",
       "      <td>2017-11-09 16:00:00</td>\n",
       "      <td>NaN</td>\n",
       "      <td>0</td>\n",
       "    </tr>\n",
       "    <tr>\n",
       "      <th>184903889</th>\n",
       "      <td>106485</td>\n",
       "      <td>11</td>\n",
       "      <td>1</td>\n",
       "      <td>19</td>\n",
       "      <td>137</td>\n",
       "      <td>2017-11-09 16:00:00</td>\n",
       "      <td>NaN</td>\n",
       "      <td>0</td>\n",
       "    </tr>\n",
       "  </tbody>\n",
       "</table>\n",
       "</div>"
      ],
      "text/plain": [
       "               ip  app  device  os  channel          click_time  \\\n",
       "184903885  121312   12       1  10      340 2017-11-09 16:00:00   \n",
       "184903886   46894    3       1  19      211 2017-11-09 16:00:00   \n",
       "184903887  320126    1       1  13      274 2017-11-09 16:00:00   \n",
       "184903888  189286   12       1  37      259 2017-11-09 16:00:00   \n",
       "184903889  106485   11       1  19      137 2017-11-09 16:00:00   \n",
       "\n",
       "          attributed_time  is_attributed  \n",
       "184903885             NaN              0  \n",
       "184903886             NaN              0  \n",
       "184903887             NaN              0  \n",
       "184903888             NaN              0  \n",
       "184903889             NaN              0  "
      ]
     },
     "execution_count": 40,
     "metadata": {},
     "output_type": "execute_result"
    }
   ],
   "source": [
    "talking.tail()"
   ]
  },
  {
   "cell_type": "code",
   "execution_count": 41,
   "metadata": {},
   "outputs": [
    {
     "data": {
      "text/html": [
       "<div>\n",
       "<style scoped>\n",
       "    .dataframe tbody tr th:only-of-type {\n",
       "        vertical-align: middle;\n",
       "    }\n",
       "\n",
       "    .dataframe tbody tr th {\n",
       "        vertical-align: top;\n",
       "    }\n",
       "\n",
       "    .dataframe thead th {\n",
       "        text-align: right;\n",
       "    }\n",
       "</style>\n",
       "<table border=\"1\" class=\"dataframe\">\n",
       "  <thead>\n",
       "    <tr style=\"text-align: right;\">\n",
       "      <th></th>\n",
       "      <th>ip</th>\n",
       "      <th>app</th>\n",
       "      <th>device</th>\n",
       "      <th>os</th>\n",
       "      <th>channel</th>\n",
       "      <th>click_time</th>\n",
       "      <th>attributed_time</th>\n",
       "      <th>is_attributed</th>\n",
       "    </tr>\n",
       "  </thead>\n",
       "  <tbody>\n",
       "    <tr>\n",
       "      <th>123635662</th>\n",
       "      <td>333473</td>\n",
       "      <td>12</td>\n",
       "      <td>1</td>\n",
       "      <td>19</td>\n",
       "      <td>340</td>\n",
       "      <td>2017-11-08 16:34:41</td>\n",
       "      <td>NaN</td>\n",
       "      <td>0</td>\n",
       "    </tr>\n",
       "    <tr>\n",
       "      <th>166856116</th>\n",
       "      <td>88911</td>\n",
       "      <td>2</td>\n",
       "      <td>1</td>\n",
       "      <td>13</td>\n",
       "      <td>435</td>\n",
       "      <td>2017-11-09 10:34:34</td>\n",
       "      <td>NaN</td>\n",
       "      <td>0</td>\n",
       "    </tr>\n",
       "    <tr>\n",
       "      <th>77586606</th>\n",
       "      <td>131991</td>\n",
       "      <td>9</td>\n",
       "      <td>1</td>\n",
       "      <td>8</td>\n",
       "      <td>215</td>\n",
       "      <td>2017-11-08 02:36:08</td>\n",
       "      <td>NaN</td>\n",
       "      <td>0</td>\n",
       "    </tr>\n",
       "    <tr>\n",
       "      <th>130534557</th>\n",
       "      <td>30587</td>\n",
       "      <td>9</td>\n",
       "      <td>1</td>\n",
       "      <td>19</td>\n",
       "      <td>134</td>\n",
       "      <td>2017-11-08 23:28:44</td>\n",
       "      <td>NaN</td>\n",
       "      <td>0</td>\n",
       "    </tr>\n",
       "    <tr>\n",
       "      <th>44656566</th>\n",
       "      <td>138871</td>\n",
       "      <td>2</td>\n",
       "      <td>1</td>\n",
       "      <td>19</td>\n",
       "      <td>237</td>\n",
       "      <td>2017-11-07 11:05:58</td>\n",
       "      <td>NaN</td>\n",
       "      <td>0</td>\n",
       "    </tr>\n",
       "  </tbody>\n",
       "</table>\n",
       "</div>"
      ],
      "text/plain": [
       "               ip  app  device  os  channel          click_time  \\\n",
       "123635662  333473   12       1  19      340 2017-11-08 16:34:41   \n",
       "166856116   88911    2       1  13      435 2017-11-09 10:34:34   \n",
       "77586606   131991    9       1   8      215 2017-11-08 02:36:08   \n",
       "130534557   30587    9       1  19      134 2017-11-08 23:28:44   \n",
       "44656566   138871    2       1  19      237 2017-11-07 11:05:58   \n",
       "\n",
       "          attributed_time  is_attributed  \n",
       "123635662             NaN              0  \n",
       "166856116             NaN              0  \n",
       "77586606              NaN              0  \n",
       "130534557             NaN              0  \n",
       "44656566              NaN              0  "
      ]
     },
     "execution_count": 41,
     "metadata": {},
     "output_type": "execute_result"
    }
   ],
   "source": [
    "talking.sample(5)  # ummm... wierd, is_attributed always 0?"
   ]
  },
  {
   "cell_type": "markdown",
   "metadata": {},
   "source": [
    "### Imbalanced dataset"
   ]
  },
  {
   "cell_type": "code",
   "execution_count": 42,
   "metadata": {},
   "outputs": [],
   "source": [
    "num_attributed_time = talking['is_attributed'].value_counts()"
   ]
  },
  {
   "cell_type": "code",
   "execution_count": 43,
   "metadata": {},
   "outputs": [
    {
     "data": {
      "text/plain": [
       "0    184447044\n",
       "1       456846\n",
       "Name: is_attributed, dtype: int64"
      ]
     },
     "execution_count": 43,
     "metadata": {},
     "output_type": "execute_result"
    }
   ],
   "source": [
    "num_attributed_time"
   ]
  },
  {
   "cell_type": "code",
   "execution_count": 44,
   "metadata": {},
   "outputs": [
    {
     "name": "stdout",
     "output_type": "stream",
     "text": [
      "is_attributed==0 weight: 99.7529%\n",
      "is_attributed==1 weight: 0.2471%\n"
     ]
    }
   ],
   "source": [
    "# extremely imbalanced data, we may need to resample the data in the training stage\n",
    "print('is_attributed==0 weight: %.4f%%' % (num_attributed_time[0]/sum(num_attributed_time)*100))\n",
    "print('is_attributed==1 weight: %.4f%%' % (num_attributed_time[1]/sum(num_attributed_time)*100))"
   ]
  },
  {
   "cell_type": "code",
   "execution_count": 114,
   "metadata": {},
   "outputs": [
    {
     "data": {
      "image/png": "[encoded data removed]",
      "text/plain": [
       "<Figure size 432x288 with 1 Axes>"
      ]
     },
     "metadata": {},
     "output_type": "display_data"
    }
   ],
   "source": [
    "# visualize the imbalance: extremely imbalanced\n",
    "labels = 'attributed', 'not_attributed'\n",
    "sizes = [num_attributed_time[1], num_attributed_time[0]]\n",
    "colors = ['red', 'skyblue']\n",
    "explode = (0.5, 0)  # explode 1st slice\n",
    " \n",
    "# Plot\n",
    "plt.pie(sizes, explode=explode, labels=labels, colors=colors,\n",
    "        autopct='%1.2f%%', shadow=True, startangle=140)\n",
    " \n",
    "plt.axis('equal')\n",
    "plt.show()"
   ]
  },
  {
   "cell_type": "markdown",
   "metadata": {},
   "source": [
    "### Preprocess Raw Features"
   ]
  },
  {
   "cell_type": "code",
   "execution_count": 45,
   "metadata": {},
   "outputs": [
    {
     "data": {
      "text/html": [
       "<div>\n",
       "<style scoped>\n",
       "    .dataframe tbody tr th:only-of-type {\n",
       "        vertical-align: middle;\n",
       "    }\n",
       "\n",
       "    .dataframe tbody tr th {\n",
       "        vertical-align: top;\n",
       "    }\n",
       "\n",
       "    .dataframe thead th {\n",
       "        text-align: right;\n",
       "    }\n",
       "</style>\n",
       "<table border=\"1\" class=\"dataframe\">\n",
       "  <thead>\n",
       "    <tr style=\"text-align: right;\">\n",
       "      <th></th>\n",
       "      <th>ip</th>\n",
       "      <th>app</th>\n",
       "      <th>device</th>\n",
       "      <th>os</th>\n",
       "      <th>channel</th>\n",
       "      <th>click_time</th>\n",
       "      <th>attributed_time</th>\n",
       "      <th>is_attributed</th>\n",
       "      <th>day</th>\n",
       "      <th>hour</th>\n",
       "      <th>minute</th>\n",
       "      <th>second</th>\n",
       "    </tr>\n",
       "  </thead>\n",
       "  <tbody>\n",
       "    <tr>\n",
       "      <th>0</th>\n",
       "      <td>83230</td>\n",
       "      <td>3</td>\n",
       "      <td>1</td>\n",
       "      <td>13</td>\n",
       "      <td>379</td>\n",
       "      <td>2017-11-06 14:32:21</td>\n",
       "      <td>NaN</td>\n",
       "      <td>0</td>\n",
       "      <td>6</td>\n",
       "      <td>14</td>\n",
       "      <td>32</td>\n",
       "      <td>21</td>\n",
       "    </tr>\n",
       "    <tr>\n",
       "      <th>1</th>\n",
       "      <td>17357</td>\n",
       "      <td>3</td>\n",
       "      <td>1</td>\n",
       "      <td>19</td>\n",
       "      <td>379</td>\n",
       "      <td>2017-11-06 14:33:34</td>\n",
       "      <td>NaN</td>\n",
       "      <td>0</td>\n",
       "      <td>6</td>\n",
       "      <td>14</td>\n",
       "      <td>33</td>\n",
       "      <td>34</td>\n",
       "    </tr>\n",
       "    <tr>\n",
       "      <th>2</th>\n",
       "      <td>35810</td>\n",
       "      <td>3</td>\n",
       "      <td>1</td>\n",
       "      <td>13</td>\n",
       "      <td>379</td>\n",
       "      <td>2017-11-06 14:34:12</td>\n",
       "      <td>NaN</td>\n",
       "      <td>0</td>\n",
       "      <td>6</td>\n",
       "      <td>14</td>\n",
       "      <td>34</td>\n",
       "      <td>12</td>\n",
       "    </tr>\n",
       "    <tr>\n",
       "      <th>3</th>\n",
       "      <td>45745</td>\n",
       "      <td>14</td>\n",
       "      <td>1</td>\n",
       "      <td>13</td>\n",
       "      <td>478</td>\n",
       "      <td>2017-11-06 14:34:52</td>\n",
       "      <td>NaN</td>\n",
       "      <td>0</td>\n",
       "      <td>6</td>\n",
       "      <td>14</td>\n",
       "      <td>34</td>\n",
       "      <td>52</td>\n",
       "    </tr>\n",
       "    <tr>\n",
       "      <th>4</th>\n",
       "      <td>161007</td>\n",
       "      <td>3</td>\n",
       "      <td>1</td>\n",
       "      <td>13</td>\n",
       "      <td>379</td>\n",
       "      <td>2017-11-06 14:35:08</td>\n",
       "      <td>NaN</td>\n",
       "      <td>0</td>\n",
       "      <td>6</td>\n",
       "      <td>14</td>\n",
       "      <td>35</td>\n",
       "      <td>8</td>\n",
       "    </tr>\n",
       "  </tbody>\n",
       "</table>\n",
       "</div>"
      ],
      "text/plain": [
       "       ip  app  device  os  channel          click_time attributed_time  \\\n",
       "0   83230    3       1  13      379 2017-11-06 14:32:21             NaN   \n",
       "1   17357    3       1  19      379 2017-11-06 14:33:34             NaN   \n",
       "2   35810    3       1  13      379 2017-11-06 14:34:12             NaN   \n",
       "3   45745   14       1  13      478 2017-11-06 14:34:52             NaN   \n",
       "4  161007    3       1  13      379 2017-11-06 14:35:08             NaN   \n",
       "\n",
       "   is_attributed  day  hour  minute  second  \n",
       "0              0    6    14      32      21  \n",
       "1              0    6    14      33      34  \n",
       "2              0    6    14      34      12  \n",
       "3              0    6    14      34      52  \n",
       "4              0    6    14      35       8  "
      ]
     },
     "execution_count": 45,
     "metadata": {},
     "output_type": "execute_result"
    }
   ],
   "source": [
    "# transform click_time into day, hour, minute and second\n",
    "talking['day'] = talking['click_time'].dt.day\n",
    "talking['hour'] = talking['click_time'].dt.hour\n",
    "talking['minute'] = talking['click_time'].dt.minute\n",
    "talking['second'] = talking['click_time'].dt.second\n",
    "talking.head()"
   ]
  },
  {
   "cell_type": "code",
   "execution_count": 46,
   "metadata": {},
   "outputs": [
    {
     "name": "stdout",
     "output_type": "stream",
     "text": [
      "Index(['ip', 'app', 'device', 'os', 'channel', 'click_time', 'attributed_time',\n",
      "       'is_attributed', 'day', 'hour', 'minute', 'second'],\n",
      "      dtype='object')\n",
      "<class 'pandas.core.frame.DataFrame'>\n",
      "RangeIndex: 184903890 entries, 0 to 184903889\n",
      "Data columns (total 12 columns):\n",
      "ip                 category\n",
      "app                category\n",
      "device             category\n",
      "os                 category\n",
      "channel            category\n",
      "click_time         datetime64[ns]\n",
      "attributed_time    object\n",
      "is_attributed      category\n",
      "day                category\n",
      "hour               category\n",
      "minute             category\n",
      "second             category\n",
      "dtypes: category(10), datetime64[ns](1), object(1)\n",
      "memory usage: 5.7+ GB\n"
     ]
    }
   ],
   "source": [
    "# ip, app, device, os, channel, is_attributed and the time features we just created\n",
    "# are encoded to be integers, we tranform them into categorical data\n",
    "heads = talking.columns\n",
    "print(heads)\n",
    "for i in list(range(0,5)) + list(range(-1, -6, -1)):\n",
    "    talking[heads[i]] = talking[heads[i]].astype('category')\n",
    "talking.info()"
   ]
  },
  {
   "cell_type": "code",
   "execution_count": 47,
   "metadata": {},
   "outputs": [
    {
     "data": {
      "image/png": "[encoded data removed]",
      "text/plain": [
       "<Figure size 432x288 with 1 Axes>"
      ]
     },
     "metadata": {
      "needs_background": "light"
     },
     "output_type": "display_data"
    }
   ],
   "source": [
    "# visualize number of unique values for each categorical feature\n",
    "x = np.arange(1, 6)\n",
    "unique = [len(talking[i].unique()) for i in heads[:5]]\n",
    "y = np.array([math.log(i, 10) for i in unique])\n",
    "plt.bar(x, y)\n",
    "for i, v in enumerate(unique):\n",
    "    plt.text(i + .8, math.log(v, 10), str(v))\n",
    "\n",
    "plt.ylabel('log(unique_count)')\n",
    "plt.xticks(np.arange(1,6), ('ip', 'app', 'device', 'os', 'channel'))\n",
    "plt.title('Unique Counts for First Five Features')\n",
    "plt.show()"
   ]
  },
  {
   "cell_type": "markdown",
   "metadata": {},
   "source": [
    "### Data Down-sampling"
   ]
  },
  {
   "cell_type": "code",
   "execution_count": 48,
   "metadata": {},
   "outputs": [],
   "source": [
    "attr0 = talking[talking['is_attributed']==0]\n",
    "attr1 = talking[talking['is_attributed']==1]"
   ]
  },
  {
   "cell_type": "code",
   "execution_count": 82,
   "metadata": {},
   "outputs": [],
   "source": [
    "subsample1 = attr0.sample(n=num_attributed_time[1], random_state=3)\n",
    "subsample2 = attr0.sample(n=num_attributed_time[1], random_state=7)\n",
    "subsample3 = attr0.sample(n=num_attributed_time[1], random_state=37)"
   ]
  },
  {
   "cell_type": "code",
   "execution_count": 83,
   "metadata": {},
   "outputs": [],
   "source": [
    "# sub-dataset 1\n",
    "talking1 = pd.concat([attr1, subsample1])\n",
    "# sub-dataset 2\n",
    "talking2 = pd.concat([attr1, subsample2])\n",
    "# sub-dataset 3\n",
    "talking3 = pd.concat([attr1, subsample3])"
   ]
  },
  {
   "cell_type": "code",
   "execution_count": 84,
   "metadata": {},
   "outputs": [
    {
     "name": "stdout",
     "output_type": "stream",
     "text": [
      "1    456846\n",
      "0    456846\n",
      "Name: is_attributed, dtype: int64\n",
      "1    456846\n",
      "0    456846\n",
      "Name: is_attributed, dtype: int64\n",
      "1    456846\n",
      "0    456846\n",
      "Name: is_attributed, dtype: int64\n"
     ]
    }
   ],
   "source": [
    "# Well done! Balanced data now!\n",
    "print(talking1['is_attributed'].value_counts())\n",
    "print(talking2['is_attributed'].value_counts())\n",
    "print(talking3['is_attributed'].value_counts())"
   ]
  },
  {
   "cell_type": "code",
   "execution_count": 85,
   "metadata": {},
   "outputs": [],
   "source": [
    "# save training set into .csv files to avoid loading original huge dataset\n",
    "talking1.to_csv('talking1.csv')\n",
    "talking2.to_csv('talking2.csv')\n",
    "talking3.to_csv('talking3.csv')"
   ]
  },
  {
   "cell_type": "code",
   "execution_count": 28,
   "metadata": {},
   "outputs": [],
   "source": [
    "# load training set directly\n",
    "# talking1 = pd.read_csv('talking1.csv', parse_dates = ['click_time'])\n",
    "# talking2 = pd.read_csv('talking2.csv', parse_dates = ['click_time'])\n",
    "# talking3 = pd.read_csv('talking3.csv', parse_dates = ['click_time'])"
   ]
  },
  {
   "cell_type": "markdown",
   "metadata": {},
   "source": [
    "Fit scikit-learn model\n",
    "----"
   ]
  },
  {
   "cell_type": "code",
   "execution_count": 66,
   "metadata": {},
   "outputs": [],
   "source": [
    "from sklearn.model_selection import train_test_split\n",
    "from sklearn.naive_bayes import GaussianNB\n",
    "from sklearn.linear_model import LogisticRegression\n",
    "from sklearn.ensemble import RandomForestClassifier\n",
    "from sklearn.svm import LinearSVC"
   ]
  },
  {
   "cell_type": "markdown",
   "metadata": {},
   "source": [
    "### Fit 3 Subsamples"
   ]
  },
  {
   "cell_type": "code",
   "execution_count": 86,
   "metadata": {},
   "outputs": [],
   "source": [
    "# subsample 1\n",
    "x1 = talking1.iloc[:, [0,1,2,3,4,-4,-3,-2,-1]]\n",
    "y1 = talking1.is_attributed\n",
    "X_train_1, X_test_1, y_train_1, y_test_1 = train_test_split(x1, y1, test_size=0.3, random_state=42)"
   ]
  },
  {
   "cell_type": "code",
   "execution_count": 88,
   "metadata": {},
   "outputs": [],
   "source": [
    "# subsample 2\n",
    "x2 = talking2.iloc[:, [0,1,2,3,4,-4,-3,-2,-1]]\n",
    "y2 = talking2.is_attributed\n",
    "X_train_2, X_test_2, y_train_2, y_test_2 = train_test_split(x2, y2, test_size=0.3, random_state=42)"
   ]
  },
  {
   "cell_type": "code",
   "execution_count": 90,
   "metadata": {},
   "outputs": [],
   "source": [
    "# subsample 3\n",
    "x3 = talking3.iloc[:, [0,1,2,3,4,-4,-3,-2,-1]]\n",
    "y3 = talking3.is_attributed\n",
    "X_train_3, X_test_3, y_train_3, y_test_3 = train_test_split(x3, y3, test_size=0.3, random_state=42)"
   ]
  },
  {
   "cell_type": "code",
   "execution_count": 102,
   "metadata": {},
   "outputs": [
    {
     "name": "stderr",
     "output_type": "stream",
     "text": [
      "/anaconda3/envs/ml/lib/python3.6/site-packages/sklearn/svm/base.py:922: ConvergenceWarning: Liblinear failed to converge, increase the number of iterations.\n",
      "  \"the number of iterations.\", ConvergenceWarning)\n",
      "/anaconda3/envs/ml/lib/python3.6/site-packages/sklearn/svm/base.py:922: ConvergenceWarning: Liblinear failed to converge, increase the number of iterations.\n",
      "  \"the number of iterations.\", ConvergenceWarning)\n",
      "/anaconda3/envs/ml/lib/python3.6/site-packages/sklearn/svm/base.py:922: ConvergenceWarning: Liblinear failed to converge, increase the number of iterations.\n",
      "  \"the number of iterations.\", ConvergenceWarning)\n"
     ]
    }
   ],
   "source": [
    "# K-NN\n",
    "knn = neighbors.KNeighborsClassifier()\n",
    "knn_1 = knn.fit(X_train_1, y_train_1)\n",
    "knn_2 = knn.fit(X_train_2, y_train_2)\n",
    "knn_3 = knn.fit(X_train_3, y_train_3)\n",
    "\n",
    "# Logistic Regression\n",
    "logistic = linear_model.LogisticRegression(solver='lbfgs', max_iter=1000,\n",
    "                                           multi_class='multinomial')\n",
    "lr_1 = logistic.fit(X_train_1, y_train_1)\n",
    "lr_2 = logistic.fit(X_train_2, y_train_2)\n",
    "lr_3 = logistic.fit(X_train_3, y_train_3)\n",
    "\n",
    "\n",
    "# Guassian Naive Bayes\n",
    "gnb = GaussianNB()\n",
    "gnb_1 = gnb.fit(X_train_1, y_train_1)\n",
    "gnb_2 = gnb.fit(X_train_2, y_train_2)\n",
    "gnb_3 = gnb.fit(X_train_3, y_train_3)\n",
    "\n",
    "\n",
    "# Support Vector Classifier\n",
    "svc = LinearSVC(C=1.0)\n",
    "svc_1 = svc.fit(X_train_1, y_train_1)\n",
    "svc_2 = svc.fit(X_train_2, y_train_2)\n",
    "svc_3 = svc.fit(X_train_3, y_train_3)\n",
    "\n",
    "\n",
    "# Random Forest Classifier\n",
    "rfc = RandomForestClassifier(n_estimators=100)\n",
    "rfc_1 = rfc.fit(X_train_1, y_train_1)\n",
    "rfc_2 = rfc.fit(X_train_2, y_train_2)\n",
    "rfc_3 = rfc.fit(X_train_3, y_train_3)"
   ]
  },
  {
   "cell_type": "markdown",
   "metadata": {},
   "source": [
    "Evaluation Metric\n",
    "----"
   ]
  },
  {
   "cell_type": "markdown",
   "metadata": {},
   "source": [
    "### Subsample 1"
   ]
  },
  {
   "cell_type": "code",
   "execution_count": 103,
   "metadata": {},
   "outputs": [
    {
     "name": "stdout",
     "output_type": "stream",
     "text": [
      "KNN score: 0.809984\n",
      "LogisticRegression score: 0.752131\n",
      "gnb score: 0.747658\n",
      "svc score: 0.505454\n",
      "rfc score: 0.920918\n"
     ]
    }
   ],
   "source": [
    "knn_1_score = knn_1.score(X_test_1, y_test_1)\n",
    "lr_1_score = lr_1.score(X_test_1, y_test_1)\n",
    "gnb_1_score = gnb_1.score(X_test_1, y_test_1)\n",
    "svc_1_score = svc_1.score(X_test_1, y_test_1)\n",
    "rfc_1_score = rfc_1.score(X_test_1, y_test_1)\n",
    "\n",
    "print('KNN score: %f' % knn_1_score)\n",
    "print('LogisticRegression score: %f' % lr_1_score)\n",
    "print('gnb score: %f' % gnb_1_score)\n",
    "print('svc score: %f' % svc_1_score)\n",
    "print('rfc score: %f' % rfc_1_score)"
   ]
  },
  {
   "cell_type": "markdown",
   "metadata": {},
   "source": [
    "### Subsample 2"
   ]
  },
  {
   "cell_type": "code",
   "execution_count": 104,
   "metadata": {},
   "outputs": [
    {
     "name": "stdout",
     "output_type": "stream",
     "text": [
      "KNN score: 0.810057\n",
      "LogisticRegression score: 0.752069\n",
      "gnb score: 0.747180\n",
      "svc score: 0.505866\n",
      "rfc score: 0.920400\n"
     ]
    }
   ],
   "source": [
    "knn_2_score = knn_2.score(X_test_2, y_test_2)\n",
    "lr_2_score = lr_2.score(X_test_2, y_test_2)\n",
    "gnb_2_score = gnb_2.score(X_test_2, y_test_2)\n",
    "svc_2_score = svc_2.score(X_test_2, y_test_2)\n",
    "rfc_2_score = rfc_2.score(X_test_2, y_test_2)\n",
    "\n",
    "print('KNN score: %f' % knn_2_score)\n",
    "print('LogisticRegression score: %f' % lr_2_score)\n",
    "print('gnb score: %f' % gnb_2_score)\n",
    "print('svc score: %f' % svc_2_score)\n",
    "print('rfc score: %f' % rfc_2_score)"
   ]
  },
  {
   "cell_type": "markdown",
   "metadata": {},
   "source": [
    "### Subsample 3"
   ]
  },
  {
   "cell_type": "code",
   "execution_count": 105,
   "metadata": {},
   "outputs": [
    {
     "name": "stdout",
     "output_type": "stream",
     "text": [
      "KNN score: 0.809721\n",
      "LogisticRegression score: 0.752966\n",
      "gnb score: 0.747282\n",
      "svc score: 0.505870\n",
      "rfc score: 0.920721\n"
     ]
    }
   ],
   "source": [
    "knn_3_score = knn_3.score(X_test_3, y_test_3)\n",
    "lr_3_score = lr_3.score(X_test_3, y_test_3)\n",
    "gnb_3_score = gnb_3.score(X_test_3, y_test_3)\n",
    "svc_3_score = svc_3.score(X_test_3, y_test_3)\n",
    "rfc_3_score = rfc_3.score(X_test_3, y_test_3)\n",
    "\n",
    "print('KNN score: %f' % knn_3_score)\n",
    "print('LogisticRegression score: %f' % lr_3_score)\n",
    "print('gnb score: %f' % gnb_3_score)\n",
    "print('svc score: %f' % svc_3_score)\n",
    "print('rfc score: %f' % rfc_3_score)"
   ]
  },
  {
   "cell_type": "markdown",
   "metadata": {},
   "source": [
    "### Average Score"
   ]
  },
  {
   "cell_type": "code",
   "execution_count": 107,
   "metadata": {},
   "outputs": [
    {
     "name": "stdout",
     "output_type": "stream",
     "text": [
      "Average KNN score: 0.809920\n",
      "Average LogisticRegression score: 0.752388\n",
      "Average Gaussian Naive Bayes score: 0.747373\n",
      "Average SVC score: 0.505730\n",
      "Average RFC score: 0.920680\n"
     ]
    }
   ],
   "source": [
    "print('Average KNN score: %f' % ((knn_1_score + knn_2_score + knn_3_score) / 3))\n",
    "print('Average LogisticRegression score: %f' % ((lr_1_score + lr_2_score + lr_3_score) / 3))\n",
    "print('Average Gaussian Naive Bayes score: %f' % ((gnb_1_score + gnb_2_score + gnb_3_score) / 3))\n",
    "print('Average SVC score: %f' % ((svc_1_score + svc_2_score + svc_3_score) / 3))\n",
    "print('Average RFC score: %f' % ((rfc_1_score + rfc_2_score + rfc_3_score) / 3))"
   ]
  },
  {
   "cell_type": "code",
   "execution_count": null,
   "metadata": {},
   "outputs": [],
   "source": []
  }
 ],
 "metadata": {
  "kernelspec": {
   "display_name": "Python 3",
   "language": "python",
   "name": "python3"
  },
  "language_info": {
   "codemirror_mode": {
    "name": "ipython",
    "version": 3
   },
   "file_extension": ".py",
   "mimetype": "text/x-python",
   "name": "python",
   "nbconvert_exporter": "python",
   "pygments_lexer": "ipython3",
   "version": "3.6.6"
  }
 },
 "nbformat": 4,
 "nbformat_minor": 2
}
