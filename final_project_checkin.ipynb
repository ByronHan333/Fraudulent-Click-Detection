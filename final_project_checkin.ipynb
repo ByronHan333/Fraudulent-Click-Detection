{
 "cells": [
  {
   "cell_type": "markdown",
   "metadata": {},
   "source": [
    "Final Project Check-in 2018-11-16\n",
    "------"
   ]
  },
  {
   "cell_type": "markdown",
   "metadata": {},
   "source": [
    "Group Name\n",
    "-----"
   ]
  },
  {
   "cell_type": "markdown",
   "metadata": {},
   "source": [
    " Project Impossible"
   ]
  },
  {
   "cell_type": "markdown",
   "metadata": {},
   "source": [
    "Student Names\n",
    "----"
   ]
  },
  {
   "cell_type": "markdown",
   "metadata": {},
   "source": [
    "1. Byron Han\n",
    "2. Yuhan Wang\n",
    "3. Jinghui Zhao\n",
    "4. Shulun Chen\n",
    "5. Liying Li"
   ]
  },
  {
   "cell_type": "markdown",
   "metadata": {},
   "source": [
    "Load Data\n",
    "-----"
   ]
  },
  {
   "cell_type": "code",
   "execution_count": 26,
   "metadata": {},
   "outputs": [],
   "source": [
    "import pandas as pd\n",
    "import numpy as np\n",
    "import matplotlib.pyplot as plt\n",
    "import math\n",
    "from sklearn.model_selection import train_test_split\n",
    "import warnings\n",
    "warnings.filterwarnings('ignore')\n",
    "\n",
    "\n",
    "%matplotlib inline"
   ]
  },
  {
   "cell_type": "code",
   "execution_count": 27,
   "metadata": {},
   "outputs": [],
   "source": [
    "talking = pd.read_csv('train_sample.csv', parse_dates = ['click_time'])"
   ]
  },
  {
   "cell_type": "code",
   "execution_count": 28,
   "metadata": {},
   "outputs": [],
   "source": [
    "talking['day'] = talking['click_time'].dt.day\n",
    "talking['hour'] = talking['click_time'].dt.hour\n",
    "talking['minute'] = talking['click_time'].dt.minute\n",
    "talking['second'] = talking['click_time'].dt.second\n",
    "# talking.head()"
   ]
  },
  {
   "cell_type": "code",
   "execution_count": 29,
   "metadata": {},
   "outputs": [],
   "source": [
    "new1 = talking[talking['is_attributed']==1]\n",
    "new0 = talking[talking['is_attributed']==0]\n",
    "new0sample = new0.sample(frac=227/99773)\n",
    "newdata = pd.concat([new0sample,new1])"
   ]
  },
  {
   "cell_type": "code",
   "execution_count": 30,
   "metadata": {},
   "outputs": [],
   "source": [
    "feature_index = 'is_attributed' # {0, 1, 2, 3}\n",
    "X = newdata.loc[:, newdata.columns != 'is_attributed']\n",
    "X = X.loc[:, X.columns != 'click_time']\n",
    "X = X.loc[:, X.columns != 'attributed_time']\n",
    "X = X.loc[:, X.columns != 'second']\n",
    "X = X.loc[:, X.columns != 'minute']\n",
    "y = newdata['is_attributed']\n",
    "X_train, X_test, y_train, y_test = train_test_split(X, y,\n",
    "                                                    test_size=0.3, random_state=42)"
   ]
  },
  {
   "cell_type": "markdown",
   "metadata": {},
   "source": [
    "Fit scikit-learn model\n",
    "----"
   ]
  },
  {
   "cell_type": "code",
   "execution_count": 31,
   "metadata": {},
   "outputs": [],
   "source": [
    "from sklearn.naive_bayes import GaussianNB\n",
    "from sklearn.linear_model import LogisticRegression\n",
    "from sklearn.ensemble import RandomForestClassifier\n",
    "from sklearn.svm import LinearSVC\n",
    "from sklearn.calibration import calibration_curve\n",
    "from sklearn import datasets, neighbors, linear_model\n",
    "\n",
    "lr = LogisticRegression(solver='lbfgs')\n",
    "gnb = GaussianNB()\n",
    "svc = LinearSVC(C=1.0)\n",
    "rfc = RandomForestClassifier(n_estimators=100)"
   ]
  },
  {
   "cell_type": "code",
   "execution_count": 32,
   "metadata": {},
   "outputs": [],
   "source": [
    "knn = neighbors.KNeighborsClassifier().fit(X_train, y_train)\n",
    "lr = linear_model.LogisticRegression(solver='lbfgs', \n",
    "                                     max_iter=10000,\n",
    "                                     multi_class='multinomial').fit(X_train, y_train)\n",
    "gnb = GaussianNB().fit(X_train, y_train)\n",
    "svc = LinearSVC().fit(X_train, y_train)\n",
    "rfc = RandomForestClassifier(n_estimators=100).fit(X_train, y_train)"
   ]
  },
  {
   "cell_type": "markdown",
   "metadata": {},
   "source": [
    "Evaluation Metric\n",
    "----"
   ]
  },
  {
   "cell_type": "code",
   "execution_count": 33,
   "metadata": {},
   "outputs": [
    {
     "name": "stdout",
     "output_type": "stream",
     "text": [
      "KNN score: 0.642336\n",
      "LogisticRegression score: 0.744526\n",
      "Gaussian Naive Bayes score: 0.576642\n",
      "Support Vector Classifier score: 0.532847\n",
      "Random Forest Classifier score: 0.912409\n"
     ]
    }
   ],
   "source": [
    "print('KNN score: %f' % knn.score(X_test, y_test))\n",
    "print('LogisticRegression score: %f' % lr.score(X_test, y_test))\n",
    "print('Gaussian Naive Bayes score: %f' % gnb.score(X_test, y_test))\n",
    "print('Support Vector Classifier score: %f' % svc.score(X_test, y_test))\n",
    "print('Random Forest Classifier score: %f' % rfc.fit(X_train, \n",
    "                                                     y_train).score(X_test, y_test))"
   ]
  },
  {
   "cell_type": "code",
   "execution_count": null,
   "metadata": {},
   "outputs": [],
   "source": []
  }
 ],
 "metadata": {
  "kernelspec": {
   "display_name": "Python 3",
   "language": "python",
   "name": "python3"
  },
  "language_info": {
   "codemirror_mode": {
    "name": "ipython",
    "version": 3
   },
   "file_extension": ".py",
   "mimetype": "text/x-python",
   "name": "python",
   "nbconvert_exporter": "python",
   "pygments_lexer": "ipython3",
   "version": "3.6.6"
  }
 },
 "nbformat": 4,
 "nbformat_minor": 2
}
