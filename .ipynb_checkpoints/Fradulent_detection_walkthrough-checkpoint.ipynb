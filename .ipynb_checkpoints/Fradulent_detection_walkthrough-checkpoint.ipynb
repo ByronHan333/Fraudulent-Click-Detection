{
 "cells": [
  {
   "cell_type": "markdown",
   "metadata": {},
   "source": [
    "## Content in this notebook\n",
    " - Import and load data\n",
    " - Raw model selection\n",
    " - Raw model parameter tuning\n",
    " - Feature engineered model selection\n",
    " - Feature engineered parameter tuning"
   ]
  },
  {
   "cell_type": "markdown",
   "metadata": {},
   "source": [
    "## Import and load data"
   ]
  },
  {
   "cell_type": "code",
   "execution_count": 1,
   "metadata": {},
   "outputs": [],
   "source": [
    "import pandas as pd\n",
    "import numpy as np\n",
    "import matplotlib.pyplot as plt\n",
    "import math\n",
    "import warnings\n",
    "from sklearn.model_selection import train_test_split\n",
    "# warnings.filterwarnings(action='once')\n",
    "warnings.filterwarnings('ignore')\n",
    "import gc\n",
    "\n",
    "\n",
    "%matplotlib inline"
   ]
  },
  {
   "cell_type": "code",
   "execution_count": 2,
   "metadata": {},
   "outputs": [],
   "source": [
    "from sklearn.model_selection import train_test_split\n",
    "from sklearn.naive_bayes import GaussianNB\n",
    "from sklearn.linear_model import LogisticRegression\n",
    "from sklearn.ensemble import RandomForestClassifier\n",
    "from sklearn.svm import SVC\n",
    "from sklearn.svm import LinearSVC\n",
    "from sklearn.calibration import calibration_curve\n",
    "from sklearn import datasets, neighbors, linear_model\n",
    "\n",
    "from sklearn.decomposition import PCA\n",
    "from sklearn.preprocessing import StandardScaler, LabelEncoder\n",
    "\n",
    "from sklearn.neural_network import MLPClassifier\n",
    "from sklearn.ensemble import GradientBoostingClassifier\n",
    "from sklearn.gaussian_process.kernels import RBF\n",
    "from sklearn.neighbors import KNeighborsClassifier\n",
    "from xgboost import XGBClassifier\n",
    "from lightgbm import LGBMClassifier\n",
    "\n",
    "\n",
    "from sklearn.model_selection import GridSearchCV\n",
    "from sklearn.pipeline import Pipeline\n",
    "\n",
    "from sklearn.metrics import f1_score\n",
    "from sklearn.metrics import balanced_accuracy_score\n",
    "from sklearn.metrics import roc_auc_score\n",
    "\n",
    "import seaborn as sns; sns.set()\n",
    "import matplotlib.pyplot as plt\n"
   ]
  },
  {
   "cell_type": "code",
   "execution_count": 4,
   "metadata": {},
   "outputs": [],
   "source": [
    "talking = pd.read_csv('./projdata/model_selection2m.csv', parse_dates = ['click_time'])"
   ]
  },
  {
   "cell_type": "markdown",
   "metadata": {},
   "source": [
    "## Raw model selectiom"
   ]
  },
  {
   "cell_type": "code",
   "execution_count": 5,
   "metadata": {},
   "outputs": [
    {
     "data": {
      "text/html": [
       "<div>\n",
       "<style scoped>\n",
       "    .dataframe tbody tr th:only-of-type {\n",
       "        vertical-align: middle;\n",
       "    }\n",
       "\n",
       "    .dataframe tbody tr th {\n",
       "        vertical-align: top;\n",
       "    }\n",
       "\n",
       "    .dataframe thead th {\n",
       "        text-align: right;\n",
       "    }\n",
       "</style>\n",
       "<table border=\"1\" class=\"dataframe\">\n",
       "  <thead>\n",
       "    <tr style=\"text-align: right;\">\n",
       "      <th></th>\n",
       "      <th>Unnamed: 0</th>\n",
       "      <th>ip</th>\n",
       "      <th>app</th>\n",
       "      <th>device</th>\n",
       "      <th>os</th>\n",
       "      <th>channel</th>\n",
       "      <th>click_time</th>\n",
       "      <th>attributed_time</th>\n",
       "      <th>is_attributed</th>\n",
       "      <th>day</th>\n",
       "      <th>hour</th>\n",
       "      <th>minute</th>\n",
       "      <th>second</th>\n",
       "    </tr>\n",
       "  </thead>\n",
       "  <tbody>\n",
       "    <tr>\n",
       "      <th>0</th>\n",
       "      <td>31655873</td>\n",
       "      <td>197955</td>\n",
       "      <td>9</td>\n",
       "      <td>1</td>\n",
       "      <td>13</td>\n",
       "      <td>258</td>\n",
       "      <td>2017-11-07 06:45:50</td>\n",
       "      <td>NaN</td>\n",
       "      <td>0</td>\n",
       "      <td>7</td>\n",
       "      <td>6</td>\n",
       "      <td>45</td>\n",
       "      <td>50</td>\n",
       "    </tr>\n",
       "    <tr>\n",
       "      <th>1</th>\n",
       "      <td>105493957</td>\n",
       "      <td>5314</td>\n",
       "      <td>2</td>\n",
       "      <td>1</td>\n",
       "      <td>27</td>\n",
       "      <td>477</td>\n",
       "      <td>2017-11-08 11:17:28</td>\n",
       "      <td>NaN</td>\n",
       "      <td>0</td>\n",
       "      <td>8</td>\n",
       "      <td>11</td>\n",
       "      <td>17</td>\n",
       "      <td>28</td>\n",
       "    </tr>\n",
       "    <tr>\n",
       "      <th>2</th>\n",
       "      <td>146879719</td>\n",
       "      <td>48782</td>\n",
       "      <td>18</td>\n",
       "      <td>1</td>\n",
       "      <td>13</td>\n",
       "      <td>107</td>\n",
       "      <td>2017-11-09 04:33:03</td>\n",
       "      <td>NaN</td>\n",
       "      <td>0</td>\n",
       "      <td>9</td>\n",
       "      <td>4</td>\n",
       "      <td>33</td>\n",
       "      <td>3</td>\n",
       "    </tr>\n",
       "    <tr>\n",
       "      <th>3</th>\n",
       "      <td>173149719</td>\n",
       "      <td>83230</td>\n",
       "      <td>3</td>\n",
       "      <td>1</td>\n",
       "      <td>13</td>\n",
       "      <td>115</td>\n",
       "      <td>2017-11-09 12:27:31</td>\n",
       "      <td>NaN</td>\n",
       "      <td>0</td>\n",
       "      <td>9</td>\n",
       "      <td>12</td>\n",
       "      <td>27</td>\n",
       "      <td>31</td>\n",
       "    </tr>\n",
       "    <tr>\n",
       "      <th>4</th>\n",
       "      <td>20397653</td>\n",
       "      <td>100896</td>\n",
       "      <td>9</td>\n",
       "      <td>1</td>\n",
       "      <td>27</td>\n",
       "      <td>445</td>\n",
       "      <td>2017-11-07 03:20:18</td>\n",
       "      <td>NaN</td>\n",
       "      <td>0</td>\n",
       "      <td>7</td>\n",
       "      <td>3</td>\n",
       "      <td>20</td>\n",
       "      <td>18</td>\n",
       "    </tr>\n",
       "  </tbody>\n",
       "</table>\n",
       "</div>"
      ],
      "text/plain": [
       "   Unnamed: 0      ip  app  device  os  channel          click_time  \\\n",
       "0    31655873  197955    9       1  13      258 2017-11-07 06:45:50   \n",
       "1   105493957    5314    2       1  27      477 2017-11-08 11:17:28   \n",
       "2   146879719   48782   18       1  13      107 2017-11-09 04:33:03   \n",
       "3   173149719   83230    3       1  13      115 2017-11-09 12:27:31   \n",
       "4    20397653  100896    9       1  27      445 2017-11-07 03:20:18   \n",
       "\n",
       "  attributed_time  is_attributed  day  hour  minute  second  \n",
       "0             NaN              0    7     6      45      50  \n",
       "1             NaN              0    8    11      17      28  \n",
       "2             NaN              0    9     4      33       3  \n",
       "3             NaN              0    9    12      27      31  \n",
       "4             NaN              0    7     3      20      18  "
      ]
     },
     "execution_count": 5,
     "metadata": {},
     "output_type": "execute_result"
    }
   ],
   "source": [
    "# transform click_time into day, hour, minute and second\n",
    "talking['day'] = talking['click_time'].dt.day\n",
    "talking['hour'] = talking['click_time'].dt.hour\n",
    "talking['minute'] = talking['click_time'].dt.minute\n",
    "talking['second'] = talking['click_time'].dt.second\n",
    "talking.head()"
   ]
  },
  {
   "cell_type": "code",
   "execution_count": 5,
   "metadata": {},
   "outputs": [
    {
     "name": "stdout",
     "output_type": "stream",
     "text": [
      "Index(['ip', 'app', 'device', 'os', 'channel', 'click_time', 'attributed_time',\n",
      "       'is_attributed', 'day', 'hour', 'minute', 'second'],\n",
      "      dtype='object')\n",
      "<class 'pandas.core.frame.DataFrame'>\n",
      "RangeIndex: 2000000 entries, 0 to 1999999\n",
      "Data columns (total 12 columns):\n",
      "ip                 category\n",
      "app                category\n",
      "device             category\n",
      "os                 category\n",
      "channel            category\n",
      "click_time         datetime64[ns]\n",
      "attributed_time    object\n",
      "is_attributed      category\n",
      "day                category\n",
      "hour               category\n",
      "minute             category\n",
      "second             category\n",
      "dtypes: category(10), datetime64[ns](1), object(1)\n",
      "memory usage: 66.3+ MB\n"
     ]
    }
   ],
   "source": [
    "heads = talking.columns\n",
    "print(heads)\n",
    "for i in list(range(0,5)) + list(range(-1, -6, -1)):\n",
    "    talking[heads[i]] = talking[heads[i]].astype('category')\n",
    "talking.info()"
   ]
  },
  {
   "cell_type": "code",
   "execution_count": 6,
   "metadata": {},
   "outputs": [],
   "source": [
    "talking = talking.drop(['attributed_time','click_time'],axis=1)"
   ]
  },
  {
   "cell_type": "code",
   "execution_count": 7,
   "metadata": {},
   "outputs": [],
   "source": [
    "# down sample the train set\n",
    "df_majority = talking[talking['is_attributed']==0]\n",
    "df_minority = talking[talking['is_attributed']==1]\n",
    "\n",
    "df_majority_downsampled = df_majority.sample(replace=False,    # sample without replacement\n",
    "                                frac=len(df_minority)/len(df_majority),     \n",
    "                                random_state=42) # reproducible results\n",
    "\n",
    "balanced_train = pd.concat([df_majority_downsampled, df_minority])\n",
    "# balanced_train = balanced_train.sample(frac=1)\n",
    "\n",
    "# balanced_train = balanced_train.drop(columns=['click_time','attributed_time'])\n",
    "balanced_train['is_attributed'] = balanced_train['is_attributed'].astype('int64')"
   ]
  },
  {
   "cell_type": "code",
   "execution_count": 8,
   "metadata": {
    "scrolled": true
   },
   "outputs": [
    {
     "data": {
      "text/plain": [
       "(9776, 10)"
      ]
     },
     "execution_count": 8,
     "metadata": {},
     "output_type": "execute_result"
    }
   ],
   "source": [
    "y = balanced_train['is_attributed']\n",
    "X = balanced_train.drop(['is_attributed'], axis=1)\n",
    "X.shape"
   ]
  },
  {
   "cell_type": "code",
   "execution_count": 9,
   "metadata": {},
   "outputs": [],
   "source": [
    "X_train, X_test, y_train, y_test = train_test_split(X, y, test_size=0.3, random_state=42)"
   ]
  },
  {
   "cell_type": "code",
   "execution_count": 10,
   "metadata": {},
   "outputs": [],
   "source": [
    "pip_knn = Pipeline([('clf', KNeighborsClassifier())])\n",
    "pip_rfc = Pipeline([('clf', RandomForestClassifier(n_estimators=100))])\n",
    "pip_lr = Pipeline([('clf', LogisticRegression(solver='lbfgs'))])\n",
    "pip_gnb = Pipeline([('clf', GaussianNB())])\n",
    "pip_gbc = Pipeline([('clf', GradientBoostingClassifier())])\n",
    "pip_mlp = Pipeline([('clf', MLPClassifier())])\n",
    "pip_svc1 = Pipeline([('clf', LinearSVC())])\n",
    "pip_svc2 = Pipeline([('clf', SVC())])\n",
    "pip_xgb = Pipeline([('clf', XGBClassifier())])\n",
    "# pip_lgb = Pipeline([('clf', LGBMClassifier())])\n",
    "\n",
    "# pipelines = [pip_knn, pip_rfc, pip_lr, pip_gnb, pip_gbc, pip_mlp, pip_svc1, pip_svc2, pip_xgb, pip_lgb]\n",
    "pipelines = [pip_knn, pip_rfc, pip_lr, pip_gnb, pip_gbc, pip_mlp, pip_svc1, pip_svc2, pip_xgb]"
   ]
  },
  {
   "cell_type": "code",
   "execution_count": 11,
   "metadata": {},
   "outputs": [],
   "source": [
    "warnings.filterwarnings('ignore')\n",
    "\n",
    "plot_df = pd.DataFrame(columns=['type','roc_auc','f1_score'])\n",
    "for i in range(0,100):\n",
    "    X_train, X_test, y_train, y_test = train_test_split(X, y, test_size=0.2, random_state=i*2)\n",
    "    for pipe in pipelines:\n",
    "        pipe.fit(X_train.values, y_train)\n",
    "        name = pipe.steps[-1][1].__class__.__name__.split('.')[-1]\n",
    "        a = roc_auc_score(y_test, pipe.predict(X_test.values))\n",
    "        b = f1_score(y_test,pipe.predict(X_test.values))\n",
    "        plot_df = plot_df.append({'type':name,'roc_auc':a, 'f1_score':b}, ignore_index=True)"
   ]
  },
  {
   "cell_type": "code",
   "execution_count": 12,
   "metadata": {},
   "outputs": [
    {
     "data": {
      "text/html": [
       "<div>\n",
       "<style scoped>\n",
       "    .dataframe tbody tr th:only-of-type {\n",
       "        vertical-align: middle;\n",
       "    }\n",
       "\n",
       "    .dataframe tbody tr th {\n",
       "        vertical-align: top;\n",
       "    }\n",
       "\n",
       "    .dataframe thead th {\n",
       "        text-align: right;\n",
       "    }\n",
       "</style>\n",
       "<table border=\"1\" class=\"dataframe\">\n",
       "  <thead>\n",
       "    <tr style=\"text-align: right;\">\n",
       "      <th></th>\n",
       "      <th>type</th>\n",
       "      <th>roc_auc</th>\n",
       "      <th>f1_score</th>\n",
       "    </tr>\n",
       "  </thead>\n",
       "  <tbody>\n",
       "    <tr>\n",
       "      <th>532</th>\n",
       "      <td>RandomForestClassifier</td>\n",
       "      <td>0.925606</td>\n",
       "      <td>0.922085</td>\n",
       "    </tr>\n",
       "    <tr>\n",
       "      <th>539</th>\n",
       "      <td>XGBClassifier</td>\n",
       "      <td>0.921459</td>\n",
       "      <td>0.916983</td>\n",
       "    </tr>\n",
       "    <tr>\n",
       "      <th>481</th>\n",
       "      <td>GradientBoostingClassifier</td>\n",
       "      <td>0.920641</td>\n",
       "      <td>0.915121</td>\n",
       "    </tr>\n",
       "    <tr>\n",
       "      <th>535</th>\n",
       "      <td>GradientBoostingClassifier</td>\n",
       "      <td>0.919966</td>\n",
       "      <td>0.915948</td>\n",
       "    </tr>\n",
       "    <tr>\n",
       "      <th>586</th>\n",
       "      <td>RandomForestClassifier</td>\n",
       "      <td>0.919498</td>\n",
       "      <td>0.915054</td>\n",
       "    </tr>\n",
       "    <tr>\n",
       "      <th>262</th>\n",
       "      <td>RandomForestClassifier</td>\n",
       "      <td>0.919454</td>\n",
       "      <td>0.914847</td>\n",
       "    </tr>\n",
       "    <tr>\n",
       "      <th>674</th>\n",
       "      <td>XGBClassifier</td>\n",
       "      <td>0.919366</td>\n",
       "      <td>0.913937</td>\n",
       "    </tr>\n",
       "    <tr>\n",
       "      <th>485</th>\n",
       "      <td>XGBClassifier</td>\n",
       "      <td>0.919125</td>\n",
       "      <td>0.913483</td>\n",
       "    </tr>\n",
       "    <tr>\n",
       "      <th>895</th>\n",
       "      <td>GradientBoostingClassifier</td>\n",
       "      <td>0.919025</td>\n",
       "      <td>0.913841</td>\n",
       "    </tr>\n",
       "    <tr>\n",
       "      <th>845</th>\n",
       "      <td>XGBClassifier</td>\n",
       "      <td>0.918990</td>\n",
       "      <td>0.914720</td>\n",
       "    </tr>\n",
       "  </tbody>\n",
       "</table>\n",
       "</div>"
      ],
      "text/plain": [
       "                           type   roc_auc  f1_score\n",
       "532      RandomForestClassifier  0.925606  0.922085\n",
       "539               XGBClassifier  0.921459  0.916983\n",
       "481  GradientBoostingClassifier  0.920641  0.915121\n",
       "535  GradientBoostingClassifier  0.919966  0.915948\n",
       "586      RandomForestClassifier  0.919498  0.915054\n",
       "262      RandomForestClassifier  0.919454  0.914847\n",
       "674               XGBClassifier  0.919366  0.913937\n",
       "485               XGBClassifier  0.919125  0.913483\n",
       "895  GradientBoostingClassifier  0.919025  0.913841\n",
       "845               XGBClassifier  0.918990  0.914720"
      ]
     },
     "execution_count": 12,
     "metadata": {},
     "output_type": "execute_result"
    }
   ],
   "source": [
    "plot_df.sort_values(['roc_auc', 'f1_score'], ascending=[False, False]).head(10)"
   ]
  },
  {
   "cell_type": "code",
   "execution_count": 13,
   "metadata": {},
   "outputs": [
    {
     "data": {
      "image/png": "[encoded data removed]",
      "text/plain": [
       "<Figure size 576x432 with 1 Axes>"
      ]
     },
     "metadata": {},
     "output_type": "display_data"
    }
   ],
   "source": [
    "sns.set(rc={'figure.figsize':(8,6)})\n",
    "ax = sns.scatterplot(x=\"roc_auc\", y=\"f1_score\", hue=\"type\", data=plot_df)"
   ]
  },
  {
   "cell_type": "markdown",
   "metadata": {},
   "source": [
    "## Raw grid search"
   ]
  },
  {
   "cell_type": "code",
   "execution_count": 14,
   "metadata": {},
   "outputs": [],
   "source": [
    "def grid_search_rfc(X_train, X_test, y_train, y_test):\n",
    "    rfc = RandomForestClassifier()   \n",
    "    grid_params = {'n_estimators': [10, 50, 100],\n",
    "                   'max_features': ['auto'],\n",
    "                   'max_depth' : range(5,10),\n",
    "                   'criterion' :['gini', 'entropy']}\n",
    "    gs = GridSearchCV(estimator=rfc,  \n",
    "                      param_grid=grid_params,\n",
    "                      scoring='roc_auc',\n",
    "                      cv=5)\n",
    "    gs.fit(X_train, y_train)\n",
    "    y_pred = gs.predict(X_test)\n",
    "    roc_auc = roc_auc_score(y_pred, y_test)\n",
    "    f1 = f1_score(y_pred, y_test)\n",
    "    best_params = gs.best_params_\n",
    "    return roc_auc, f1, best_params\n"
   ]
  },
  {
   "cell_type": "code",
   "execution_count": 15,
   "metadata": {},
   "outputs": [
    {
     "data": {
      "text/plain": [
       "(0.9239114990358266,\n",
       " 0.9092957746478874,\n",
       " {'criterion': 'entropy',\n",
       "  'max_depth': 9,\n",
       "  'max_features': 'auto',\n",
       "  'n_estimators': 100})"
      ]
     },
     "execution_count": 15,
     "metadata": {},
     "output_type": "execute_result"
    }
   ],
   "source": [
    "grid_search_rfc(X_train, X_test, y_train, y_test)"
   ]
  },
  {
   "cell_type": "code",
   "execution_count": 16,
   "metadata": {},
   "outputs": [],
   "source": [
    "def grid_search_gbc(X_train, X_test, y_train, y_test):\n",
    "    gbc = GradientBoostingClassifier()\n",
    "    grid_params = {'n_estimators': [10, 50, 100],\n",
    "                   'learning_rate': [0.01, 0.05, 0.1]}\n",
    "    gs = GridSearchCV(estimator=gbc,  \n",
    "                      param_grid=grid_params,\n",
    "                      scoring='roc_auc',\n",
    "                      cv=5)\n",
    "    gs.fit(X_train, y_train)\n",
    "    y_pred = gs.predict(X_test)\n",
    "    roc_auc = roc_auc_score(y_pred, y_test)\n",
    "    f1 = f1_score(y_pred, y_test)\n",
    "    best_params = gs.best_params_\n",
    "    return roc_auc, f1, best_params"
   ]
  },
  {
   "cell_type": "code",
   "execution_count": 17,
   "metadata": {},
   "outputs": [
    {
     "data": {
      "text/plain": [
       "(0.9246802847855778,\n",
       " 0.9138410227904391,\n",
       " {'learning_rate': 0.1, 'n_estimators': 100})"
      ]
     },
     "execution_count": 17,
     "metadata": {},
     "output_type": "execute_result"
    }
   ],
   "source": [
    "grid_search_gbc(X_train, X_test, y_train, y_test)"
   ]
  },
  {
   "cell_type": "code",
   "execution_count": 18,
   "metadata": {},
   "outputs": [],
   "source": [
    "def grid_search_xgb(X_train, X_test, y_train, y_test):\n",
    "    xg = XGBClassifier()\n",
    "    grid_params = {'n_estimators': [100, 200, 400],\n",
    "                   'learning_rate': [0.1, 0.2, 0.4]}\n",
    "    gs = GridSearchCV(estimator=xg,  \n",
    "                      param_grid=grid_params,\n",
    "                      scoring='roc_auc',\n",
    "                      cv=5)\n",
    "    gs.fit(X_train.values, y_train)\n",
    "    roc_auc = gs.score(X_test.values, y_test)\n",
    "    best_params = gs.best_params_\n",
    "    return roc_auc, best_params"
   ]
  },
  {
   "cell_type": "code",
   "execution_count": 19,
   "metadata": {},
   "outputs": [
    {
     "data": {
      "text/plain": [
       "(0.9650323546657733, {'learning_rate': 0.2, 'n_estimators': 100})"
      ]
     },
     "execution_count": 19,
     "metadata": {},
     "output_type": "execute_result"
    }
   ],
   "source": [
    "grid_search_xgb(X_train, X_test, y_train, y_test)\n"
   ]
  },
  {
   "cell_type": "code",
   "execution_count": 20,
   "metadata": {},
   "outputs": [],
   "source": [
    "def grid_search_lgb(X_train, X_test, y_train, y_test):\n",
    "    lg = LGBMClassifier()    \n",
    "    grid_params = {'n_estimators': [10, 100, 400],\n",
    "                   'learning_rate': [0.01, 0.1, 0.5]}              \n",
    "    gs = GridSearchCV(estimator=lg,  \n",
    "                      param_grid=grid_params,\n",
    "                      scoring='roc_auc',\n",
    "                      cv=5)\n",
    "    gs.fit(X_train.values, y_train)\n",
    "    roc_auc = gs.score(X_test.values, y_test)\n",
    "    best_params = gs.best_params_    \n",
    "    return roc_auc, best_params"
   ]
  },
  {
   "cell_type": "code",
   "execution_count": 21,
   "metadata": {},
   "outputs": [
    {
     "data": {
      "text/plain": [
       "(0.9669982409113755, {'learning_rate': 0.01, 'n_estimators': 400})"
      ]
     },
     "execution_count": 21,
     "metadata": {},
     "output_type": "execute_result"
    }
   ],
   "source": [
    "grid_search_lgb(X_train, X_test, y_train, y_test)"
   ]
  },
  {
   "cell_type": "markdown",
   "metadata": {},
   "source": [
    "## Feature engineer and model selection"
   ]
  },
  {
   "cell_type": "markdown",
   "metadata": {},
   "source": [
    "### load test and feature engineer"
   ]
  },
  {
   "cell_type": "code",
   "execution_count": 22,
   "metadata": {},
   "outputs": [],
   "source": [
    "talking = pd.read_csv('./projdata/model_selection2m.csv', parse_dates = ['click_time'])"
   ]
  },
  {
   "cell_type": "code",
   "execution_count": 23,
   "metadata": {},
   "outputs": [],
   "source": [
    "def fea_eng(Y):\n",
    "    X = Y\n",
    "    X['day'] = X['click_time'].dt.day\n",
    "    X['hour'] = X['click_time'].dt.hour\n",
    "    X['minute'] = X['click_time'].dt.minute\n",
    "    X['second'] = X['click_time'].dt.second\n",
    "    heads = X.columns\n",
    "    print(heads)\n",
    "    for i in list(range(0,5)) + [6]:\n",
    "        X[heads[i]] = X[heads[i]].astype('category')\n",
    "    return X"
   ]
  },
  {
   "cell_type": "code",
   "execution_count": 24,
   "metadata": {},
   "outputs": [
    {
     "name": "stdout",
     "output_type": "stream",
     "text": [
      "Index(['Unnamed: 0', 'ip', 'app', 'device', 'os', 'channel', 'click_time',\n",
      "       'attributed_time', 'is_attributed', 'day', 'hour', 'minute', 'second'],\n",
      "      dtype='object')\n"
     ]
    }
   ],
   "source": [
    "final = fea_eng(talking)"
   ]
  },
  {
   "cell_type": "code",
   "execution_count": 25,
   "metadata": {},
   "outputs": [],
   "source": [
    "# down sample the train set\n",
    "df_majority = final[final.is_attributed==0]\n",
    "df_minority = final[final.is_attributed==1]\n",
    "\n",
    "df_majority_downsampled = df_majority.sample(replace=False,    # sample without replacement\n",
    "                                frac=len(df_minority)/len(df_majority),     \n",
    "                                random_state=42) # reproducible results\n",
    "\n",
    "balanced = pd.concat([df_majority_downsampled, df_minority])\n",
    "balanced = balanced.sample(frac=1)\n",
    "\n",
    "# balanced = balanced.drop(columns=['click_time','attributed_time'])\n",
    "balanced = final.drop(columns=['click_time','attributed_time'])\n",
    "balanced['is_attributed'] = balanced['is_attributed'].astype('int64')"
   ]
  },
  {
   "cell_type": "code",
   "execution_count": 26,
   "metadata": {},
   "outputs": [
    {
     "data": {
      "text/plain": [
       "Index(['Unnamed: 0', 'ip', 'app', 'device', 'os', 'channel', 'is_attributed',\n",
       "       'day', 'hour', 'minute', 'second'],\n",
       "      dtype='object')"
      ]
     },
     "execution_count": 26,
     "metadata": {},
     "output_type": "execute_result"
    }
   ],
   "source": [
    "balanced.columns"
   ]
  },
  {
   "cell_type": "code",
   "execution_count": 27,
   "metadata": {},
   "outputs": [],
   "source": [
    "test_fe = balanced"
   ]
  },
  {
   "cell_type": "code",
   "execution_count": 28,
   "metadata": {},
   "outputs": [],
   "source": [
    "test_fe[['day', 'hour', 'minute', 'second']] = test_fe[['day', 'hour', 'minute', 'second']].astype('float')\n",
    "test_fe[['ip', 'app', 'device', 'os', 'channel']] = test_fe[['ip', 'app', 'device', 'os', 'channel']].astype('category')"
   ]
  },
  {
   "cell_type": "code",
   "execution_count": 29,
   "metadata": {},
   "outputs": [
    {
     "name": "stdout",
     "output_type": "stream",
     "text": [
      "Grouping by ['ip', 'app', 'channel'], and aggregating day with var\n",
      "Grouping by ['ip', 'app', 'os'], and aggregating hour with var\n",
      "Grouping by ['ip', 'day', 'hour'], and aggregating channel with count\n",
      "Grouping by ['ip', 'app'], and aggregating channel with count\n",
      "Grouping by ['ip', 'app', 'os'], and aggregating channel with count\n",
      "Grouping by ['ip', 'app', 'day', 'hour'], and aggregating channel with count\n",
      "Grouping by ['ip', 'app', 'channel'], and aggregating hour with mean\n",
      "Grouping by ['app'], and aggregating ip with AvgViewPerDistinct\n",
      "Grouping by ['app'], and aggregating channel with count\n",
      "Grouping by ['channel'], and aggregating app with count\n",
      "Grouping by ['ip'], and aggregating channel with nunique\n",
      "Grouping by ['ip'], and aggregating app with nunique\n",
      "Grouping by ['ip', 'day'], and aggregating hour with nunique\n",
      "Grouping by ['ip', 'app'], and aggregating os with nunique\n",
      "Grouping by ['ip'], and aggregating device with nunique\n",
      "Grouping by ['app'], and aggregating channel with nunique\n",
      "Grouping by ['ip', 'device', 'os'], and aggregating app with nunique\n",
      "Grouping by ['ip', 'device', 'os'], and aggregating app with cumcount\n",
      "Grouping by ['ip'], and aggregating app with cumcount\n",
      "Grouping by ['ip'], and aggregating os with cumcount\n",
      "Grouping by ['ip', 'day', 'channel'], and aggregating hour with var\n"
     ]
    },
    {
     "data": {
      "text/html": [
       "<div>\n",
       "<style scoped>\n",
       "    .dataframe tbody tr th:only-of-type {\n",
       "        vertical-align: middle;\n",
       "    }\n",
       "\n",
       "    .dataframe tbody tr th {\n",
       "        vertical-align: top;\n",
       "    }\n",
       "\n",
       "    .dataframe thead th {\n",
       "        text-align: right;\n",
       "    }\n",
       "</style>\n",
       "<table border=\"1\" class=\"dataframe\">\n",
       "  <thead>\n",
       "    <tr style=\"text-align: right;\">\n",
       "      <th></th>\n",
       "      <th>Unnamed: 0</th>\n",
       "      <th>ip</th>\n",
       "      <th>app</th>\n",
       "      <th>device</th>\n",
       "      <th>os</th>\n",
       "      <th>channel</th>\n",
       "      <th>is_attributed</th>\n",
       "      <th>day</th>\n",
       "      <th>hour</th>\n",
       "      <th>minute</th>\n",
       "      <th>...</th>\n",
       "      <th>ip_nunique_app</th>\n",
       "      <th>ip_day_nunique_hour</th>\n",
       "      <th>ip_app_nunique_os</th>\n",
       "      <th>ip_nunique_device</th>\n",
       "      <th>app_nunique_channel</th>\n",
       "      <th>ip_device_os_nunique_app</th>\n",
       "      <th>ip_device_os_cumcount_app</th>\n",
       "      <th>ip_cumcount_app</th>\n",
       "      <th>ip_cumcount_os</th>\n",
       "      <th>ip_day_channel_var_hour</th>\n",
       "    </tr>\n",
       "  </thead>\n",
       "  <tbody>\n",
       "    <tr>\n",
       "      <th>0</th>\n",
       "      <td>31655873</td>\n",
       "      <td>197955</td>\n",
       "      <td>9</td>\n",
       "      <td>1</td>\n",
       "      <td>13</td>\n",
       "      <td>258</td>\n",
       "      <td>0</td>\n",
       "      <td>7.0</td>\n",
       "      <td>6.0</td>\n",
       "      <td>45.0</td>\n",
       "      <td>...</td>\n",
       "      <td>15</td>\n",
       "      <td>14</td>\n",
       "      <td>4</td>\n",
       "      <td>2</td>\n",
       "      <td>39</td>\n",
       "      <td>5</td>\n",
       "      <td>0</td>\n",
       "      <td>0</td>\n",
       "      <td>0</td>\n",
       "      <td>NaN</td>\n",
       "    </tr>\n",
       "    <tr>\n",
       "      <th>1</th>\n",
       "      <td>105493957</td>\n",
       "      <td>5314</td>\n",
       "      <td>2</td>\n",
       "      <td>1</td>\n",
       "      <td>27</td>\n",
       "      <td>477</td>\n",
       "      <td>0</td>\n",
       "      <td>8.0</td>\n",
       "      <td>11.0</td>\n",
       "      <td>17.0</td>\n",
       "      <td>...</td>\n",
       "      <td>78</td>\n",
       "      <td>24</td>\n",
       "      <td>56</td>\n",
       "      <td>25</td>\n",
       "      <td>21</td>\n",
       "      <td>24</td>\n",
       "      <td>0</td>\n",
       "      <td>0</td>\n",
       "      <td>0</td>\n",
       "      <td>34.811841</td>\n",
       "    </tr>\n",
       "    <tr>\n",
       "      <th>2</th>\n",
       "      <td>146879719</td>\n",
       "      <td>48782</td>\n",
       "      <td>18</td>\n",
       "      <td>1</td>\n",
       "      <td>13</td>\n",
       "      <td>107</td>\n",
       "      <td>0</td>\n",
       "      <td>9.0</td>\n",
       "      <td>4.0</td>\n",
       "      <td>33.0</td>\n",
       "      <td>...</td>\n",
       "      <td>17</td>\n",
       "      <td>9</td>\n",
       "      <td>3</td>\n",
       "      <td>2</td>\n",
       "      <td>15</td>\n",
       "      <td>6</td>\n",
       "      <td>0</td>\n",
       "      <td>0</td>\n",
       "      <td>0</td>\n",
       "      <td>NaN</td>\n",
       "    </tr>\n",
       "    <tr>\n",
       "      <th>3</th>\n",
       "      <td>173149719</td>\n",
       "      <td>83230</td>\n",
       "      <td>3</td>\n",
       "      <td>1</td>\n",
       "      <td>13</td>\n",
       "      <td>115</td>\n",
       "      <td>0</td>\n",
       "      <td>9.0</td>\n",
       "      <td>12.0</td>\n",
       "      <td>27.0</td>\n",
       "      <td>...</td>\n",
       "      <td>20</td>\n",
       "      <td>16</td>\n",
       "      <td>16</td>\n",
       "      <td>2</td>\n",
       "      <td>37</td>\n",
       "      <td>15</td>\n",
       "      <td>0</td>\n",
       "      <td>0</td>\n",
       "      <td>0</td>\n",
       "      <td>NaN</td>\n",
       "    </tr>\n",
       "    <tr>\n",
       "      <th>4</th>\n",
       "      <td>20397653</td>\n",
       "      <td>100896</td>\n",
       "      <td>9</td>\n",
       "      <td>1</td>\n",
       "      <td>27</td>\n",
       "      <td>445</td>\n",
       "      <td>0</td>\n",
       "      <td>7.0</td>\n",
       "      <td>3.0</td>\n",
       "      <td>20.0</td>\n",
       "      <td>...</td>\n",
       "      <td>21</td>\n",
       "      <td>16</td>\n",
       "      <td>10</td>\n",
       "      <td>1</td>\n",
       "      <td>39</td>\n",
       "      <td>1</td>\n",
       "      <td>0</td>\n",
       "      <td>0</td>\n",
       "      <td>0</td>\n",
       "      <td>NaN</td>\n",
       "    </tr>\n",
       "  </tbody>\n",
       "</table>\n",
       "<p>5 rows × 32 columns</p>\n",
       "</div>"
      ],
      "text/plain": [
       "  Unnamed: 0      ip app device  os channel  is_attributed  day  hour  minute  \\\n",
       "0   31655873  197955   9      1  13     258              0  7.0   6.0    45.0   \n",
       "1  105493957    5314   2      1  27     477              0  8.0  11.0    17.0   \n",
       "2  146879719   48782  18      1  13     107              0  9.0   4.0    33.0   \n",
       "3  173149719   83230   3      1  13     115              0  9.0  12.0    27.0   \n",
       "4   20397653  100896   9      1  27     445              0  7.0   3.0    20.0   \n",
       "\n",
       "            ...             ip_nunique_app  ip_day_nunique_hour  \\\n",
       "0           ...                         15                   14   \n",
       "1           ...                         78                   24   \n",
       "2           ...                         17                    9   \n",
       "3           ...                         20                   16   \n",
       "4           ...                         21                   16   \n",
       "\n",
       "   ip_app_nunique_os  ip_nunique_device  app_nunique_channel  \\\n",
       "0                  4                  2                   39   \n",
       "1                 56                 25                   21   \n",
       "2                  3                  2                   15   \n",
       "3                 16                  2                   37   \n",
       "4                 10                  1                   39   \n",
       "\n",
       "   ip_device_os_nunique_app  ip_device_os_cumcount_app  ip_cumcount_app  \\\n",
       "0                         5                          0                0   \n",
       "1                        24                          0                0   \n",
       "2                         6                          0                0   \n",
       "3                        15                          0                0   \n",
       "4                         1                          0                0   \n",
       "\n",
       "   ip_cumcount_os  ip_day_channel_var_hour  \n",
       "0               0                      NaN  \n",
       "1               0                34.811841  \n",
       "2               0                      NaN  \n",
       "3               0                      NaN  \n",
       "4               0                      NaN  \n",
       "\n",
       "[5 rows x 32 columns]"
      ]
     },
     "execution_count": 29,
     "metadata": {},
     "output_type": "execute_result"
    }
   ],
   "source": [
    "# Define all the groupby transformations\n",
    "groupby_aggregations = [\n",
    "    \n",
    "    # V1 - GroupBy Features #\n",
    "    #########################    \n",
    "    # Variance in day, for ip-app-channel\n",
    "    {'groupby': ['ip','app','channel'], 'select': 'day', 'agg': 'var'},\n",
    "    # Variance in hour, for ip-app-os\n",
    "    {'groupby': ['ip','app','os'], 'select': 'hour', 'agg': 'var'},\n",
    "    # Count, for ip-day-hour\n",
    "    {'groupby': ['ip','day','hour'], 'select': 'channel', 'agg': 'count'},\n",
    "    # Count, for ip-app\n",
    "    {'groupby': ['ip', 'app'], 'select': 'channel', 'agg': 'count'},        \n",
    "    # Count, for ip-app-os\n",
    "    {'groupby': ['ip', 'app', 'os'], 'select': 'channel', 'agg': 'count'},\n",
    "    # Count, for ip-app-day-hour\n",
    "    {'groupby': ['ip','app','day','hour'], 'select': 'channel', 'agg': 'count'},\n",
    "    # Mean hour, for ip-app-channel\n",
    "    {'groupby': ['ip','app','channel'], 'select': 'hour', 'agg': 'mean'}, \n",
    "    \n",
    "    # V2 - GroupBy Features #\n",
    "    #########################\n",
    "    # Average clicks on app by distinct users; is it an app they return to?\n",
    "    {'groupby': ['app'], \n",
    "     'select': 'ip', \n",
    "     'agg': lambda x: np.divide(float(len(x)),float(len(x.unique()))), \n",
    "     'agg_name': 'AvgViewPerDistinct'\n",
    "    },\n",
    "    # How popular is the app or channel?\n",
    "    {'groupby': ['app'], 'select': 'channel', 'agg': 'count'},\n",
    "    {'groupby': ['channel'], 'select': 'app', 'agg': 'count'},\n",
    "    \n",
    "    # V3 - GroupBy Features                                              #\n",
    "    # https://www.kaggle.com/bk0000/non-blending-lightgbm-model-lb-0-977 #\n",
    "    ###################################################################### \n",
    "    {'groupby': ['ip'], 'select': 'channel', 'agg': 'nunique'}, \n",
    "    {'groupby': ['ip'], 'select': 'app', 'agg': 'nunique'}, \n",
    "    {'groupby': ['ip','day'], 'select': 'hour', 'agg': 'nunique'}, \n",
    "    {'groupby': ['ip','app'], 'select': 'os', 'agg': 'nunique'}, \n",
    "    {'groupby': ['ip'], 'select': 'device', 'agg': 'nunique'}, \n",
    "    {'groupby': ['app'], 'select': 'channel', 'agg': 'nunique'}, \n",
    "    {'groupby': ['ip', 'device', 'os'], 'select': 'app', 'agg': 'nunique'}, \n",
    "    {'groupby': ['ip','device','os'], 'select': 'app', 'agg': 'cumcount'}, \n",
    "    {'groupby': ['ip'], 'select': 'app', 'agg': 'cumcount'}, \n",
    "    {'groupby': ['ip'], 'select': 'os', 'agg': 'cumcount'}, \n",
    "    {'groupby': ['ip','day','channel'], 'select': 'hour', 'agg': 'var'}    \n",
    "]\n",
    "\n",
    "\n",
    "\n",
    "new_features =[]\n",
    "# Apply all the groupby transformations\n",
    "for spec in groupby_aggregations:\n",
    "    \n",
    "    # Name of the aggregation we're applying\n",
    "    agg_name = spec['agg_name'] if 'agg_name' in spec else spec['agg']\n",
    "    \n",
    "    # Name of new feature\n",
    "    new_feature = '{}_{}_{}'.format('_'.join(spec['groupby']), agg_name, spec['select'])\n",
    "    new_features.append(new_feature)\n",
    "    \n",
    "    # Info\n",
    "    print(\"Grouping by {}, and aggregating {} with {}\".format(\n",
    "        spec['groupby'], spec['select'], agg_name\n",
    "    ))\n",
    "    \n",
    "    # Unique list of features to select\n",
    "    all_features = list(set(spec['groupby'] + [spec['select']]))\n",
    "    \n",
    "    # Perform the groupby\n",
    "    gp = test_fe[all_features]. \\\n",
    "        groupby(spec['groupby'])[spec['select']]. \\\n",
    "        agg(spec['agg']). \\\n",
    "        reset_index(). \\\n",
    "        rename(index=str, columns={spec['select']: new_feature})\n",
    "        \n",
    "    # Merge back to X_total\n",
    "    if 'cumcount' == spec['agg']:\n",
    "        test_fe[new_feature] = gp[0].values\n",
    "    else:\n",
    "        # train_fe[spec['groupby']] = train_fe[spec['groupby']].astype('category')\n",
    "        test_fe = test_fe.merge(gp, on=spec['groupby'], how='left')\n",
    "        \n",
    "     # Clear memory\n",
    "    del gp\n",
    "    gc.collect()\n",
    "\n",
    "test_fe.head()"
   ]
  },
  {
   "cell_type": "code",
   "execution_count": 30,
   "metadata": {},
   "outputs": [],
   "source": [
    "test_fe['ip_app_channel_var_day'] = test_fe['ip_app_channel_var_day'].fillna(0) \n",
    "test_fe['ip_app_os_var_hour'] = test_fe['ip_app_os_var_hour'].fillna(0) \n",
    "test_fe['ip_day_channel_var_hour'] = test_fe['ip_day_channel_var_hour'].fillna(0)"
   ]
  },
  {
   "cell_type": "code",
   "execution_count": 31,
   "metadata": {},
   "outputs": [
    {
     "data": {
      "text/plain": [
       "Index(['Unnamed: 0', 'ip', 'app', 'device', 'os', 'channel', 'day', 'hour',\n",
       "       'minute', 'second', 'ip_app_channel_var_day', 'ip_app_os_var_hour',\n",
       "       'ip_day_hour_count_channel', 'ip_app_count_channel',\n",
       "       'ip_app_os_count_channel', 'ip_app_day_hour_count_channel',\n",
       "       'ip_app_channel_mean_hour', 'app_AvgViewPerDistinct_ip',\n",
       "       'app_count_channel', 'channel_count_app', 'ip_nunique_channel',\n",
       "       'ip_nunique_app', 'ip_day_nunique_hour', 'ip_app_nunique_os',\n",
       "       'ip_nunique_device', 'app_nunique_channel', 'ip_device_os_nunique_app',\n",
       "       'ip_device_os_cumcount_app', 'ip_cumcount_app', 'ip_cumcount_os',\n",
       "       'ip_day_channel_var_hour'],\n",
       "      dtype='object')"
      ]
     },
     "execution_count": 31,
     "metadata": {},
     "output_type": "execute_result"
    }
   ],
   "source": [
    "X = test_fe.drop(['is_attributed'],axis=1)\n",
    "y = test_fe[['is_attributed']]\n",
    "X.columns"
   ]
  },
  {
   "cell_type": "markdown",
   "metadata": {},
   "source": [
    "### load train and feature engineered"
   ]
  },
  {
   "cell_type": "code",
   "execution_count": 32,
   "metadata": {},
   "outputs": [],
   "source": [
    "talking = pd.read_csv('./projdata/param_tuning18m.csv') \n",
    "talking['click_time'] = pd.to_datetime(talking['click_time'], errors='coerce')"
   ]
  },
  {
   "cell_type": "code",
   "execution_count": 33,
   "metadata": {},
   "outputs": [
    {
     "data": {
      "text/html": [
       "<div>\n",
       "<style scoped>\n",
       "    .dataframe tbody tr th:only-of-type {\n",
       "        vertical-align: middle;\n",
       "    }\n",
       "\n",
       "    .dataframe tbody tr th {\n",
       "        vertical-align: top;\n",
       "    }\n",
       "\n",
       "    .dataframe thead th {\n",
       "        text-align: right;\n",
       "    }\n",
       "</style>\n",
       "<table border=\"1\" class=\"dataframe\">\n",
       "  <thead>\n",
       "    <tr style=\"text-align: right;\">\n",
       "      <th></th>\n",
       "      <th>Unnamed: 0</th>\n",
       "      <th>ip</th>\n",
       "      <th>app</th>\n",
       "      <th>device</th>\n",
       "      <th>os</th>\n",
       "      <th>channel</th>\n",
       "      <th>click_time</th>\n",
       "      <th>attributed_time</th>\n",
       "      <th>is_attributed</th>\n",
       "      <th>day</th>\n",
       "      <th>hour</th>\n",
       "      <th>minute</th>\n",
       "      <th>second</th>\n",
       "    </tr>\n",
       "  </thead>\n",
       "  <tbody>\n",
       "    <tr>\n",
       "      <th>0</th>\n",
       "      <td>92895533</td>\n",
       "      <td>83604</td>\n",
       "      <td>64</td>\n",
       "      <td>1</td>\n",
       "      <td>13</td>\n",
       "      <td>459</td>\n",
       "      <td>2017-11-08 07:18:18</td>\n",
       "      <td>NaN</td>\n",
       "      <td>0</td>\n",
       "      <td>8</td>\n",
       "      <td>7</td>\n",
       "      <td>18</td>\n",
       "      <td>18</td>\n",
       "    </tr>\n",
       "    <tr>\n",
       "      <th>1</th>\n",
       "      <td>22237114</td>\n",
       "      <td>28021</td>\n",
       "      <td>3</td>\n",
       "      <td>1</td>\n",
       "      <td>13</td>\n",
       "      <td>409</td>\n",
       "      <td>2017-11-07 03:54:37</td>\n",
       "      <td>NaN</td>\n",
       "      <td>0</td>\n",
       "      <td>7</td>\n",
       "      <td>3</td>\n",
       "      <td>54</td>\n",
       "      <td>37</td>\n",
       "    </tr>\n",
       "    <tr>\n",
       "      <th>2</th>\n",
       "      <td>173801870</td>\n",
       "      <td>44456</td>\n",
       "      <td>3</td>\n",
       "      <td>1</td>\n",
       "      <td>15</td>\n",
       "      <td>480</td>\n",
       "      <td>2017-11-09 12:39:05</td>\n",
       "      <td>NaN</td>\n",
       "      <td>0</td>\n",
       "      <td>9</td>\n",
       "      <td>12</td>\n",
       "      <td>39</td>\n",
       "      <td>5</td>\n",
       "    </tr>\n",
       "    <tr>\n",
       "      <th>3</th>\n",
       "      <td>44049831</td>\n",
       "      <td>134076</td>\n",
       "      <td>9</td>\n",
       "      <td>1</td>\n",
       "      <td>13</td>\n",
       "      <td>258</td>\n",
       "      <td>2017-11-07 10:55:26</td>\n",
       "      <td>NaN</td>\n",
       "      <td>0</td>\n",
       "      <td>7</td>\n",
       "      <td>10</td>\n",
       "      <td>55</td>\n",
       "      <td>26</td>\n",
       "    </tr>\n",
       "    <tr>\n",
       "      <th>4</th>\n",
       "      <td>80845475</td>\n",
       "      <td>138561</td>\n",
       "      <td>6</td>\n",
       "      <td>1</td>\n",
       "      <td>13</td>\n",
       "      <td>459</td>\n",
       "      <td>2017-11-08 03:33:21</td>\n",
       "      <td>NaN</td>\n",
       "      <td>0</td>\n",
       "      <td>8</td>\n",
       "      <td>3</td>\n",
       "      <td>33</td>\n",
       "      <td>21</td>\n",
       "    </tr>\n",
       "  </tbody>\n",
       "</table>\n",
       "</div>"
      ],
      "text/plain": [
       "   Unnamed: 0      ip  app  device  os  channel          click_time  \\\n",
       "0    92895533   83604   64       1  13      459 2017-11-08 07:18:18   \n",
       "1    22237114   28021    3       1  13      409 2017-11-07 03:54:37   \n",
       "2   173801870   44456    3       1  15      480 2017-11-09 12:39:05   \n",
       "3    44049831  134076    9       1  13      258 2017-11-07 10:55:26   \n",
       "4    80845475  138561    6       1  13      459 2017-11-08 03:33:21   \n",
       "\n",
       "  attributed_time  is_attributed  day  hour  minute  second  \n",
       "0             NaN              0    8     7      18      18  \n",
       "1             NaN              0    7     3      54      37  \n",
       "2             NaN              0    9    12      39       5  \n",
       "3             NaN              0    7    10      55      26  \n",
       "4             NaN              0    8     3      33      21  "
      ]
     },
     "execution_count": 33,
     "metadata": {},
     "output_type": "execute_result"
    }
   ],
   "source": [
    "# transform click_time into day, hour, minute and second\n",
    "talking['day'] = talking['click_time'].dt.day\n",
    "talking['hour'] = talking['click_time'].dt.hour\n",
    "talking['minute'] = talking['click_time'].dt.minute\n",
    "talking['second'] = talking['click_time'].dt.second\n",
    "talking.head()"
   ]
  },
  {
   "cell_type": "code",
   "execution_count": 34,
   "metadata": {},
   "outputs": [
    {
     "name": "stdout",
     "output_type": "stream",
     "text": [
      "Index(['Unnamed: 0', 'ip', 'app', 'device', 'os', 'channel', 'click_time',\n",
      "       'attributed_time', 'is_attributed', 'day', 'hour', 'minute', 'second'],\n",
      "      dtype='object')\n",
      "<class 'pandas.core.frame.DataFrame'>\n",
      "RangeIndex: 18000000 entries, 0 to 17999999\n",
      "Data columns (total 13 columns):\n",
      "Unnamed: 0         category\n",
      "ip                 category\n",
      "app                category\n",
      "device             category\n",
      "os                 category\n",
      "channel            int64\n",
      "click_time         category\n",
      "attributed_time    object\n",
      "is_attributed      int64\n",
      "day                int64\n",
      "hour               int64\n",
      "minute             int64\n",
      "second             int64\n",
      "dtypes: category(6), int64(6), object(1)\n",
      "memory usage: 2.0+ GB\n"
     ]
    }
   ],
   "source": [
    "# ip, app, device, os, channel, is_attributed and the time features we just created\n",
    "# are encoded to be integers, we tranform them into categorical data\n",
    "heads = talking.columns\n",
    "print(heads)\n",
    "for i in list(range(0,5)) + [6]:\n",
    "    talking[heads[i]] = talking[heads[i]].astype('category')\n",
    "talking.info()"
   ]
  },
  {
   "cell_type": "code",
   "execution_count": 35,
   "metadata": {},
   "outputs": [],
   "source": [
    "# down sample the train set\n",
    "df_majority = talking[talking.is_attributed==0]\n",
    "df_minority = talking[talking.is_attributed==1]\n",
    "\n",
    "df_majority_downsampled = df_majority.sample(replace=False,    # sample without replacement\n",
    "                                frac=len(df_minority)/len(df_majority),     \n",
    "                                random_state=42) # reproducible results\n",
    "\n",
    "balanced_train = pd.concat([df_majority_downsampled, df_minority])\n",
    "balanced_train = balanced_train.sample(frac=1)\n",
    "\n",
    "balanced_train = balanced_train.drop(columns=['click_time','attributed_time'])\n",
    "balanced_train['is_attributed'] = balanced_train['is_attributed'].astype('int64')"
   ]
  },
  {
   "cell_type": "code",
   "execution_count": 36,
   "metadata": {},
   "outputs": [],
   "source": [
    "# split 20m into 2m train data and 18m validation data.\n",
    "train = balanced_train.sample(frac=0.1, replace=False, random_state = 42)\n",
    "valid = balanced_train.drop(train.index)"
   ]
  },
  {
   "cell_type": "code",
   "execution_count": 37,
   "metadata": {},
   "outputs": [],
   "source": [
    "train_fe = train"
   ]
  },
  {
   "cell_type": "code",
   "execution_count": 38,
   "metadata": {},
   "outputs": [],
   "source": [
    "train_fe[['day', 'hour', 'minute', 'second']] = train_fe[['day', 'hour', 'minute', 'second']].astype('float')\n",
    "train_fe[['ip', 'app', 'device', 'os', 'channel']] = train_fe[['ip', 'app', 'device', 'os', 'channel']].astype('category')"
   ]
  },
  {
   "cell_type": "code",
   "execution_count": 39,
   "metadata": {},
   "outputs": [
    {
     "name": "stdout",
     "output_type": "stream",
     "text": [
      "Grouping by ['ip', 'app', 'channel'], and aggregating day with var\n",
      "Grouping by ['ip', 'app', 'os'], and aggregating hour with var\n",
      "Grouping by ['ip', 'day', 'hour'], and aggregating channel with count\n",
      "Grouping by ['ip', 'app'], and aggregating channel with count\n",
      "Grouping by ['ip', 'app', 'os'], and aggregating channel with count\n",
      "Grouping by ['ip', 'app', 'day', 'hour'], and aggregating channel with count\n",
      "Grouping by ['ip', 'app', 'channel'], and aggregating hour with mean\n",
      "Grouping by ['app'], and aggregating ip with AvgViewPerDistinct\n",
      "Grouping by ['app'], and aggregating channel with count\n",
      "Grouping by ['channel'], and aggregating app with count\n",
      "Grouping by ['ip'], and aggregating channel with nunique\n",
      "Grouping by ['ip'], and aggregating app with nunique\n",
      "Grouping by ['ip', 'day'], and aggregating hour with nunique\n",
      "Grouping by ['ip', 'app'], and aggregating os with nunique\n",
      "Grouping by ['ip'], and aggregating device with nunique\n",
      "Grouping by ['app'], and aggregating channel with nunique\n",
      "Grouping by ['ip', 'device', 'os'], and aggregating app with nunique\n",
      "Grouping by ['ip', 'device', 'os'], and aggregating app with cumcount\n",
      "Grouping by ['ip'], and aggregating app with cumcount\n",
      "Grouping by ['ip'], and aggregating os with cumcount\n",
      "Grouping by ['ip', 'day', 'channel'], and aggregating hour with var\n"
     ]
    },
    {
     "data": {
      "text/html": [
       "<div>\n",
       "<style scoped>\n",
       "    .dataframe tbody tr th:only-of-type {\n",
       "        vertical-align: middle;\n",
       "    }\n",
       "\n",
       "    .dataframe tbody tr th {\n",
       "        vertical-align: top;\n",
       "    }\n",
       "\n",
       "    .dataframe thead th {\n",
       "        text-align: right;\n",
       "    }\n",
       "</style>\n",
       "<table border=\"1\" class=\"dataframe\">\n",
       "  <thead>\n",
       "    <tr style=\"text-align: right;\">\n",
       "      <th></th>\n",
       "      <th>Unnamed: 0</th>\n",
       "      <th>ip</th>\n",
       "      <th>app</th>\n",
       "      <th>device</th>\n",
       "      <th>os</th>\n",
       "      <th>channel</th>\n",
       "      <th>is_attributed</th>\n",
       "      <th>day</th>\n",
       "      <th>hour</th>\n",
       "      <th>minute</th>\n",
       "      <th>...</th>\n",
       "      <th>ip_nunique_app</th>\n",
       "      <th>ip_day_nunique_hour</th>\n",
       "      <th>ip_app_nunique_os</th>\n",
       "      <th>ip_nunique_device</th>\n",
       "      <th>app_nunique_channel</th>\n",
       "      <th>ip_device_os_nunique_app</th>\n",
       "      <th>ip_device_os_cumcount_app</th>\n",
       "      <th>ip_cumcount_app</th>\n",
       "      <th>ip_cumcount_os</th>\n",
       "      <th>ip_day_channel_var_hour</th>\n",
       "    </tr>\n",
       "  </thead>\n",
       "  <tbody>\n",
       "    <tr>\n",
       "      <th>0</th>\n",
       "      <td>161293410</td>\n",
       "      <td>100677</td>\n",
       "      <td>7</td>\n",
       "      <td>1</td>\n",
       "      <td>19</td>\n",
       "      <td>101</td>\n",
       "      <td>0</td>\n",
       "      <td>9.0</td>\n",
       "      <td>8.0</td>\n",
       "      <td>45.0</td>\n",
       "      <td>...</td>\n",
       "      <td>1</td>\n",
       "      <td>2</td>\n",
       "      <td>2</td>\n",
       "      <td>1</td>\n",
       "      <td>1</td>\n",
       "      <td>1</td>\n",
       "      <td>0</td>\n",
       "      <td>0</td>\n",
       "      <td>0</td>\n",
       "      <td>8.0</td>\n",
       "    </tr>\n",
       "    <tr>\n",
       "      <th>1</th>\n",
       "      <td>13035970</td>\n",
       "      <td>98622</td>\n",
       "      <td>18</td>\n",
       "      <td>1</td>\n",
       "      <td>14</td>\n",
       "      <td>134</td>\n",
       "      <td>0</td>\n",
       "      <td>7.0</td>\n",
       "      <td>1.0</td>\n",
       "      <td>2.0</td>\n",
       "      <td>...</td>\n",
       "      <td>1</td>\n",
       "      <td>1</td>\n",
       "      <td>1</td>\n",
       "      <td>1</td>\n",
       "      <td>9</td>\n",
       "      <td>1</td>\n",
       "      <td>0</td>\n",
       "      <td>0</td>\n",
       "      <td>0</td>\n",
       "      <td>NaN</td>\n",
       "    </tr>\n",
       "    <tr>\n",
       "      <th>2</th>\n",
       "      <td>21918704</td>\n",
       "      <td>83604</td>\n",
       "      <td>29</td>\n",
       "      <td>1</td>\n",
       "      <td>25</td>\n",
       "      <td>213</td>\n",
       "      <td>1</td>\n",
       "      <td>7.0</td>\n",
       "      <td>3.0</td>\n",
       "      <td>48.0</td>\n",
       "      <td>...</td>\n",
       "      <td>1</td>\n",
       "      <td>1</td>\n",
       "      <td>1</td>\n",
       "      <td>1</td>\n",
       "      <td>8</td>\n",
       "      <td>1</td>\n",
       "      <td>0</td>\n",
       "      <td>0</td>\n",
       "      <td>0</td>\n",
       "      <td>NaN</td>\n",
       "    </tr>\n",
       "    <tr>\n",
       "      <th>3</th>\n",
       "      <td>146577125</td>\n",
       "      <td>43793</td>\n",
       "      <td>3</td>\n",
       "      <td>1</td>\n",
       "      <td>13</td>\n",
       "      <td>280</td>\n",
       "      <td>0</td>\n",
       "      <td>9.0</td>\n",
       "      <td>4.0</td>\n",
       "      <td>28.0</td>\n",
       "      <td>...</td>\n",
       "      <td>6</td>\n",
       "      <td>3</td>\n",
       "      <td>2</td>\n",
       "      <td>1</td>\n",
       "      <td>32</td>\n",
       "      <td>2</td>\n",
       "      <td>0</td>\n",
       "      <td>0</td>\n",
       "      <td>0</td>\n",
       "      <td>NaN</td>\n",
       "    </tr>\n",
       "    <tr>\n",
       "      <th>4</th>\n",
       "      <td>154468449</td>\n",
       "      <td>299305</td>\n",
       "      <td>3</td>\n",
       "      <td>1</td>\n",
       "      <td>4</td>\n",
       "      <td>408</td>\n",
       "      <td>1</td>\n",
       "      <td>9.0</td>\n",
       "      <td>6.0</td>\n",
       "      <td>34.0</td>\n",
       "      <td>...</td>\n",
       "      <td>1</td>\n",
       "      <td>1</td>\n",
       "      <td>1</td>\n",
       "      <td>1</td>\n",
       "      <td>32</td>\n",
       "      <td>1</td>\n",
       "      <td>0</td>\n",
       "      <td>0</td>\n",
       "      <td>0</td>\n",
       "      <td>NaN</td>\n",
       "    </tr>\n",
       "  </tbody>\n",
       "</table>\n",
       "<p>5 rows × 32 columns</p>\n",
       "</div>"
      ],
      "text/plain": [
       "  Unnamed: 0      ip app device  os channel  is_attributed  day  hour  minute  \\\n",
       "0  161293410  100677   7      1  19     101              0  9.0   8.0    45.0   \n",
       "1   13035970   98622  18      1  14     134              0  7.0   1.0     2.0   \n",
       "2   21918704   83604  29      1  25     213              1  7.0   3.0    48.0   \n",
       "3  146577125   43793   3      1  13     280              0  9.0   4.0    28.0   \n",
       "4  154468449  299305   3      1   4     408              1  9.0   6.0    34.0   \n",
       "\n",
       "            ...             ip_nunique_app  ip_day_nunique_hour  \\\n",
       "0           ...                          1                    2   \n",
       "1           ...                          1                    1   \n",
       "2           ...                          1                    1   \n",
       "3           ...                          6                    3   \n",
       "4           ...                          1                    1   \n",
       "\n",
       "   ip_app_nunique_os  ip_nunique_device  app_nunique_channel  \\\n",
       "0                  2                  1                    1   \n",
       "1                  1                  1                    9   \n",
       "2                  1                  1                    8   \n",
       "3                  2                  1                   32   \n",
       "4                  1                  1                   32   \n",
       "\n",
       "   ip_device_os_nunique_app  ip_device_os_cumcount_app  ip_cumcount_app  \\\n",
       "0                         1                          0                0   \n",
       "1                         1                          0                0   \n",
       "2                         1                          0                0   \n",
       "3                         2                          0                0   \n",
       "4                         1                          0                0   \n",
       "\n",
       "   ip_cumcount_os  ip_day_channel_var_hour  \n",
       "0               0                      8.0  \n",
       "1               0                      NaN  \n",
       "2               0                      NaN  \n",
       "3               0                      NaN  \n",
       "4               0                      NaN  \n",
       "\n",
       "[5 rows x 32 columns]"
      ]
     },
     "execution_count": 39,
     "metadata": {},
     "output_type": "execute_result"
    }
   ],
   "source": [
    "# Define all the groupby transformations\n",
    "groupby_aggregations = [\n",
    "    \n",
    "    # V1 - GroupBy Features #\n",
    "    #########################    \n",
    "    # Variance in day, for ip-app-channel\n",
    "    {'groupby': ['ip','app','channel'], 'select': 'day', 'agg': 'var'},\n",
    "    # Variance in hour, for ip-app-os\n",
    "    {'groupby': ['ip','app','os'], 'select': 'hour', 'agg': 'var'},\n",
    "    # Count, for ip-day-hour\n",
    "    {'groupby': ['ip','day','hour'], 'select': 'channel', 'agg': 'count'},\n",
    "    # Count, for ip-app\n",
    "    {'groupby': ['ip', 'app'], 'select': 'channel', 'agg': 'count'},        \n",
    "    # Count, for ip-app-os\n",
    "    {'groupby': ['ip', 'app', 'os'], 'select': 'channel', 'agg': 'count'},\n",
    "    # Count, for ip-app-day-hour\n",
    "    {'groupby': ['ip','app','day','hour'], 'select': 'channel', 'agg': 'count'},\n",
    "    # Mean hour, for ip-app-channel\n",
    "    {'groupby': ['ip','app','channel'], 'select': 'hour', 'agg': 'mean'}, \n",
    "    \n",
    "    # V2 - GroupBy Features #\n",
    "    #########################\n",
    "    # Average clicks on app by distinct users; is it an app they return to?\n",
    "    {'groupby': ['app'], \n",
    "     'select': 'ip', \n",
    "     'agg': lambda x: np.divide(float(len(x)),float(len(x.unique()))), \n",
    "     'agg_name': 'AvgViewPerDistinct'\n",
    "    },\n",
    "    # How popular is the app or channel?\n",
    "    {'groupby': ['app'], 'select': 'channel', 'agg': 'count'},\n",
    "    {'groupby': ['channel'], 'select': 'app', 'agg': 'count'},\n",
    "    \n",
    "    # V3 - GroupBy Features                                              #\n",
    "    # https://www.kaggle.com/bk0000/non-blending-lightgbm-model-lb-0-977 #\n",
    "    ###################################################################### \n",
    "    {'groupby': ['ip'], 'select': 'channel', 'agg': 'nunique'}, \n",
    "    {'groupby': ['ip'], 'select': 'app', 'agg': 'nunique'}, \n",
    "    {'groupby': ['ip','day'], 'select': 'hour', 'agg': 'nunique'}, \n",
    "    {'groupby': ['ip','app'], 'select': 'os', 'agg': 'nunique'}, \n",
    "    {'groupby': ['ip'], 'select': 'device', 'agg': 'nunique'}, \n",
    "    {'groupby': ['app'], 'select': 'channel', 'agg': 'nunique'}, \n",
    "    {'groupby': ['ip', 'device', 'os'], 'select': 'app', 'agg': 'nunique'}, \n",
    "    {'groupby': ['ip','device','os'], 'select': 'app', 'agg': 'cumcount'}, \n",
    "    {'groupby': ['ip'], 'select': 'app', 'agg': 'cumcount'}, \n",
    "    {'groupby': ['ip'], 'select': 'os', 'agg': 'cumcount'}, \n",
    "    {'groupby': ['ip','day','channel'], 'select': 'hour', 'agg': 'var'}    \n",
    "]\n",
    "\n",
    "\n",
    "\n",
    "new_features =[]\n",
    "# Apply all the groupby transformations\n",
    "for spec in groupby_aggregations:\n",
    "    \n",
    "    # Name of the aggregation we're applying\n",
    "    agg_name = spec['agg_name'] if 'agg_name' in spec else spec['agg']\n",
    "    \n",
    "    # Name of new feature\n",
    "    new_feature = '{}_{}_{}'.format('_'.join(spec['groupby']), agg_name, spec['select'])\n",
    "    new_features.append(new_feature)\n",
    "    \n",
    "    # Info\n",
    "    print(\"Grouping by {}, and aggregating {} with {}\".format(\n",
    "        spec['groupby'], spec['select'], agg_name\n",
    "    ))\n",
    "    \n",
    "    # Unique list of features to select\n",
    "    all_features = list(set(spec['groupby'] + [spec['select']]))\n",
    "    \n",
    "    # Perform the groupby\n",
    "    gp = train_fe[all_features]. \\\n",
    "        groupby(spec['groupby'])[spec['select']]. \\\n",
    "        agg(spec['agg']). \\\n",
    "        reset_index(). \\\n",
    "        rename(index=str, columns={spec['select']: new_feature})\n",
    "        \n",
    "    # Merge back to X_total\n",
    "    if 'cumcount' == spec['agg']:\n",
    "        train_fe[new_feature] = gp[0].values\n",
    "    else:\n",
    "        # train_fe[spec['groupby']] = train_fe[spec['groupby']].astype('category')\n",
    "        train_fe = train_fe.merge(gp, on=spec['groupby'], how='left')\n",
    "        \n",
    "     # Clear memory\n",
    "    del gp\n",
    "    gc.collect()\n",
    "\n",
    "train_fe.head()"
   ]
  },
  {
   "cell_type": "code",
   "execution_count": 40,
   "metadata": {},
   "outputs": [],
   "source": [
    "base_features = ['ip', 'app', 'device', 'os', 'channel']"
   ]
  },
  {
   "cell_type": "code",
   "execution_count": 41,
   "metadata": {},
   "outputs": [],
   "source": [
    "train_fe['ip_app_channel_var_day'] = train_fe['ip_app_channel_var_day'].fillna(0) \n",
    "train_fe['ip_app_os_var_hour'] = train_fe['ip_app_os_var_hour'].fillna(0) \n",
    "train_fe['ip_day_channel_var_hour'] = train_fe['ip_day_channel_var_hour'].fillna(0)"
   ]
  },
  {
   "cell_type": "code",
   "execution_count": 42,
   "metadata": {},
   "outputs": [],
   "source": [
    "train_gbc = train_fe[['channel','ip','channel_count_app','app','app_count_channel','is_attributed']]\n",
    "# valid_gbc = train_fe[['channel','ip','channel_count_app','app','app_count_channel','is_attributed']]\n",
    "x_full_train, x_full_test, y_full_train, y_full_test = train_test_split(train_fe.drop(['is_attributed'],axis=1),train_fe['is_attributed'], test_size=0.2, random_state=42)\n",
    "x_reduced_train, x_reduced_test, y_reduced_train, y_reduced_test = train_test_split(train_gbc.drop(['is_attributed'],axis=1),train_gbc['is_attributed'], test_size=0.2, random_state=42)"
   ]
  },
  {
   "cell_type": "code",
   "execution_count": 44,
   "metadata": {},
   "outputs": [],
   "source": [
    "gbc_full = GradientBoostingClassifier()\n",
    "gbc_reduced = GradientBoostingClassifier()"
   ]
  },
  {
   "cell_type": "code",
   "execution_count": 46,
   "metadata": {},
   "outputs": [
    {
     "data": {
      "text/plain": [
       "0.9208683827714882"
      ]
     },
     "execution_count": 46,
     "metadata": {},
     "output_type": "execute_result"
    }
   ],
   "source": [
    "gbc_full.fit(x_full_train, y_full_train)\n",
    "roc_auc_score(gbc_full.predict(x_full_test),y_full_test)"
   ]
  },
  {
   "cell_type": "code",
   "execution_count": 47,
   "metadata": {},
   "outputs": [
    {
     "data": {
      "text/plain": [
       "0.9201764240888398"
      ]
     },
     "execution_count": 47,
     "metadata": {},
     "output_type": "execute_result"
    }
   ],
   "source": [
    "gbc_reduced.fit(x_reduced_train, y_reduced_train)\n",
    "roc_auc_score(gbc_reduced.predict(x_reduced_test),y_reduced_test)"
   ]
  },
  {
   "cell_type": "code",
   "execution_count": 48,
   "metadata": {},
   "outputs": [
    {
     "data": {
      "text/plain": [
       "0.9208683827714882"
      ]
     },
     "execution_count": 48,
     "metadata": {},
     "output_type": "execute_result"
    }
   ],
   "source": [
    "roc_auc_score(gbc_full.predict(x_full_test),y_full_test)"
   ]
  },
  {
   "cell_type": "code",
   "execution_count": 49,
   "metadata": {},
   "outputs": [],
   "source": [
    "train_lgb = train_fe[['ip',\n",
    " 'os',\n",
    " 'channel_count_app',\n",
    " 'minute',\n",
    " 'app',\n",
    " 'second',\n",
    " 'channel',\n",
    " 'hour',\n",
    " 'app_count_channel',\n",
    " 'app_AvgViewPerDistinct_ip',\n",
    " 'is_attributed']]\n",
    "valid_lgb = train_fe[['ip',\n",
    " 'os',\n",
    " 'channel_count_app',\n",
    " 'minute',\n",
    " 'app',\n",
    " 'second',\n",
    " 'channel',\n",
    " 'hour',\n",
    " 'app_count_channel',\n",
    " 'app_AvgViewPerDistinct_ip',\n",
    " 'is_attributed']]"
   ]
  },
  {
   "cell_type": "code",
   "execution_count": 50,
   "metadata": {},
   "outputs": [],
   "source": [
    "X_train = train_lgb.drop(['is_attributed'],axis=1)\n",
    "y_train = train_lgb[['is_attributed']]\n",
    "X_test = valid_lgb.drop(['is_attributed'],axis=1)\n",
    "y_test = valid_lgb[['is_attributed']]"
   ]
  },
  {
   "cell_type": "code",
   "execution_count": 51,
   "metadata": {},
   "outputs": [],
   "source": [
    "lgb_full = LGBMClassifier()\n",
    "lgb_reduced = LGBMClassifier()"
   ]
  },
  {
   "cell_type": "code",
   "execution_count": 52,
   "metadata": {},
   "outputs": [
    {
     "data": {
      "text/plain": [
       "0.9529533207362306"
      ]
     },
     "execution_count": 52,
     "metadata": {},
     "output_type": "execute_result"
    }
   ],
   "source": [
    "roc_auc_score(lgb_full.fit(X_train.values, y_train).predict(X_test.values), y_test)\n",
    "roc_auc_score(lgb_reduced.fit(X_train.values, y_train).predict(X_test.values), y_test)"
   ]
  },
  {
   "cell_type": "code",
   "execution_count": 53,
   "metadata": {},
   "outputs": [],
   "source": [
    "train_rfc = train_fe[['app',\n",
    " 'channel_count_app',\n",
    " 'app_nunique_channel',\n",
    " 'app_count_channel',\n",
    " 'ip',\n",
    " 'channel',\n",
    " 'app_AvgViewPerDistinct_ip',\n",
    " 'second',\n",
    " 'minute',\n",
    " 'os',\n",
    " 'is_attributed']]\n",
    "valid_rfc = train_fe[['app',\n",
    " 'channel_count_app',\n",
    " 'app_nunique_channel',\n",
    " 'app_count_channel',\n",
    " 'ip',\n",
    " 'channel',\n",
    " 'app_AvgViewPerDistinct_ip',\n",
    " 'second',\n",
    " 'minute',\n",
    " 'os',\n",
    " 'is_attributed']]"
   ]
  },
  {
   "cell_type": "code",
   "execution_count": 54,
   "metadata": {},
   "outputs": [],
   "source": [
    "X_train = train_rfc.drop(['is_attributed'],axis=1)\n",
    "y_train = train_rfc[['is_attributed']]\n",
    "X_test = valid_rfc.drop(['is_attributed'],axis=1)\n",
    "y_test = valid_rfc[['is_attributed']]"
   ]
  },
  {
   "cell_type": "code",
   "execution_count": 55,
   "metadata": {},
   "outputs": [
    {
     "data": {
      "text/plain": [
       "0.5011631332076837"
      ]
     },
     "execution_count": 55,
     "metadata": {},
     "output_type": "execute_result"
    }
   ],
   "source": [
    "# test_fe = test_fe.fillna(0)\n",
    "# X = test_fe.drop(['is_attributed'],axis=1)\n",
    "# y = test_fe[['is_attributed']]\n",
    "X.columns\n",
    "roc_auc_score(gbc_full.predict(X),y)"
   ]
  },
  {
   "cell_type": "markdown",
   "metadata": {},
   "source": [
    "## Feature engineer and grid search"
   ]
  },
  {
   "cell_type": "code",
   "execution_count": 56,
   "metadata": {},
   "outputs": [],
   "source": [
    "def grid_search_gbc(X_train, X_test, y_train, y_test):\n",
    "    gbc = GradientBoostingClassifier()\n",
    "    grid_params = {'n_estimators': [10, 50, 100],\n",
    "                   'learning_rate': [0.01, 0.05, 0.1]}\n",
    "    gs = GridSearchCV(estimator=gbc,  \n",
    "                      param_grid=grid_params,\n",
    "                      scoring='roc_auc',\n",
    "                      cv=5)\n",
    "    gs.fit(X_train, y_train)\n",
    "    y_pred = gs.predict(X_test)\n",
    "    roc_auc = roc_auc_score(y_pred, y_test)\n",
    "    f1 = f1_score(y_pred, y_test)\n",
    "    best_params = gs.best_params_\n",
    "    return roc_auc, f1, best_params"
   ]
  },
  {
   "cell_type": "code",
   "execution_count": 57,
   "metadata": {},
   "outputs": [
    {
     "data": {
      "text/plain": [
       "(0.9208683827714882,\n",
       " 0.9139534883720931,\n",
       " {'learning_rate': 0.1, 'n_estimators': 100})"
      ]
     },
     "execution_count": 57,
     "metadata": {},
     "output_type": "execute_result"
    }
   ],
   "source": [
    "#full\n",
    "grid_search_gbc(x_full_train, x_full_test, y_full_train, y_full_test)"
   ]
  },
  {
   "cell_type": "code",
   "execution_count": 58,
   "metadata": {},
   "outputs": [
    {
     "data": {
      "text/plain": [
       "(0.9215339412249337,\n",
       " 0.9114824031283326,\n",
       " {'learning_rate': 0.1, 'n_estimators': 100})"
      ]
     },
     "execution_count": 58,
     "metadata": {},
     "output_type": "execute_result"
    }
   ],
   "source": [
    "#reduced\n",
    "grid_search_gbc(X_train, X_test, y_train, y_test)"
   ]
  },
  {
   "cell_type": "code",
   "execution_count": 74,
   "metadata": {},
   "outputs": [],
   "source": [
    "final_full_gbc = GradientBoostingClassifier(learning_rate=0.1, n_estimators=100).fit(x_full_train, y_full_train)"
   ]
  },
  {
   "cell_type": "code",
   "execution_count": 75,
   "metadata": {},
   "outputs": [],
   "source": [
    "final_reduced_gbc = GradientBoostingClassifier(learning_rate=0.1, n_estimators=100).fit(X_train, y_train)"
   ]
  },
  {
   "cell_type": "code",
   "execution_count": 76,
   "metadata": {},
   "outputs": [
    {
     "data": {
      "text/plain": [
       "0.9208683827714882"
      ]
     },
     "execution_count": 76,
     "metadata": {},
     "output_type": "execute_result"
    }
   ],
   "source": [
    "full_roc = roc_auc_score(final_full_gbc.predict(x_full_test),y_full_test)\n",
    "full_roc"
   ]
  },
  {
   "cell_type": "code",
   "execution_count": 78,
   "metadata": {},
   "outputs": [
    {
     "data": {
      "text/plain": [
       "0.9215339412249337"
      ]
     },
     "execution_count": 78,
     "metadata": {},
     "output_type": "execute_result"
    }
   ],
   "source": [
    "reduced_roc = roc_auc_score(final_reduced_gbc.predict(X_test),y_test)\n",
    "reduced_roc"
   ]
  }
 ],
 "metadata": {
  "kernelspec": {
   "display_name": "Python 3",
   "language": "python",
   "name": "python3"
  },
  "language_info": {
   "codemirror_mode": {
    "name": "ipython",
    "version": 3
   },
   "file_extension": ".py",
   "mimetype": "text/x-python",
   "name": "python",
   "nbconvert_exporter": "python",
   "pygments_lexer": "ipython3",
   "version": "3.6.6"
  }
 },
 "nbformat": 4,
 "nbformat_minor": 2
}
